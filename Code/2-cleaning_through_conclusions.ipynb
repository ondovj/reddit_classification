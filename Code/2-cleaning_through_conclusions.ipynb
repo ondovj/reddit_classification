{
 "cells": [
  {
   "cell_type": "markdown",
   "metadata": {},
   "source": [
    "# Classifying Subreddits by Title Content"
   ]
  },
  {
   "cell_type": "markdown",
   "metadata": {},
   "source": [
    "### Notebook 2"
   ]
  },
  {
   "cell_type": "markdown",
   "metadata": {},
   "source": [
    "This notebook picks up where the previous notebook \"1-data-scraping\" left off. It is a continuation of building a model to classify subreddit posts based on their title content. For a more detailed description, please refer to the first notebook."
   ]
  },
  {
   "cell_type": "markdown",
   "metadata": {},
   "source": [
    "## Table of Contents"
   ]
  },
  {
   "cell_type": "markdown",
   "metadata": {},
   "source": [
    "1. [Importing Packages](#Importing-Packages)\n",
    "2. [Reading Data](#Reading-Data)\n",
    "3. [EDA and Cleaning](#EDA-and-Cleaning)\n",
    "    1. [Initial EDA](#Initial-EDA)\n",
    "    2. [Data Cleaning](#Data-Cleaning)\n",
    "    3. [Additional EDA/Cleaning](#Additional-EDA/Cleaning)\n",
    "        1. [Title Lengths](#Title-Lengths)\n",
    "        2. [Count Vectorizing](#Count-Vectorizing)\n",
    "4. [Preprocessing](#Preprocessing)\n",
    "5. [Modeling](#Modeling)\n",
    "    1. [Logistic Regression](#Logistic-Regression)\n",
    "    2. [K-Nearest Neighbors](#K-Nearest-Neighbors)\n",
    "    3. [Multinomial Naive Bayes](#Multinomial-Naive-Bayes)\n",
    "    4. [Random Forest](#Random-Forest)\n",
    "    5. [Adaptive Boosting Decision Tree](#Adaptive-Boosting-Decision-Tree)\n",
    "    6. [Support Vector Classifier](#Support-Vector-Classifier)\n",
    "6. [Model Evaluations](#Model-Evaluations)\n",
    "    1. [Accuracy](#Accuracy)\n",
    "    2. [ROC Curve](#ROC-Curve)\n",
    "7. [Conclusions and Recommendations](#Conclusions-and-Recommendations)\n",
    "    1. [Conclusions](#Conclusions)\n",
    "    2. [Recommendations](#Recommendations)"
   ]
  },
  {
   "cell_type": "markdown",
   "metadata": {},
   "source": [
    "## Importing Packages"
   ]
  },
  {
   "cell_type": "code",
   "execution_count": 1,
   "metadata": {},
   "outputs": [],
   "source": [
    "# importing basics and plotting packages\n",
    "import numpy                         as np\n",
    "import scipy\n",
    "import pandas                        as pd\n",
    "import matplotlib.pyplot             as plt\n",
    "import seaborn                       as sns\n",
    "import regex                         as re\n",
    "import graphs\n",
    "\n",
    "# importing NLP packages\n",
    "from nltk.corpus                     import stopwords\n",
    "from nltk.stem                       import WordNetLemmatizer\n",
    "from nltk.stem.porter                import PorterStemmer\n",
    "from sklearn.feature_extraction.text import CountVectorizer, TfidfVectorizer\n",
    "\n",
    "# importing modeling packages\n",
    "from sklearn.model_selection         import train_test_split, cross_val_score, GridSearchCV\n",
    "from sklearn.preprocessing           import StandardScaler\n",
    "from sklearn.compose                 import ColumnTransformer\n",
    "from sklearn.pipeline                import Pipeline, FeatureUnion\n",
    "from sklearn.linear_model            import LogisticRegression\n",
    "from sklearn.neighbors               import KNeighborsClassifier\n",
    "from sklearn.naive_bayes             import MultinomialNB\n",
    "from sklearn.tree                    import DecisionTreeClassifier\n",
    "from sklearn.ensemble                import BaggingClassifier, RandomForestClassifier, AdaBoostClassifier\n",
    "from sklearn.svm                     import SVC\n",
    "from sklearn                         import metrics\n",
    "\n",
    "# making the magic happen for plots\n",
    "%matplotlib inline\n",
    "\n",
    "# setting options for better viewing\n",
    "pd.set_option(\"display.max_rows\", 40)"
   ]
  },
  {
   "cell_type": "markdown",
   "metadata": {},
   "source": [
    "## Reading Data"
   ]
  },
  {
   "cell_type": "markdown",
   "metadata": {},
   "source": [
    "We want to read in the data saved from the first notebook - where the post information was pulled from reddit."
   ]
  },
  {
   "cell_type": "code",
   "execution_count": 2,
   "metadata": {},
   "outputs": [
    {
     "data": {
      "text/html": [
       "<div>\n",
       "<style scoped>\n",
       "    .dataframe tbody tr th:only-of-type {\n",
       "        vertical-align: middle;\n",
       "    }\n",
       "\n",
       "    .dataframe tbody tr th {\n",
       "        vertical-align: top;\n",
       "    }\n",
       "\n",
       "    .dataframe thead th {\n",
       "        text-align: right;\n",
       "    }\n",
       "</style>\n",
       "<table border=\"1\" class=\"dataframe\">\n",
       "  <thead>\n",
       "    <tr style=\"text-align: right;\">\n",
       "      <th></th>\n",
       "      <th>title</th>\n",
       "      <th>pc_sub</th>\n",
       "    </tr>\n",
       "  </thead>\n",
       "  <tbody>\n",
       "    <tr>\n",
       "      <th>0</th>\n",
       "      <td>Two Lord of the Rings Inspired Mario Maker Lev...</td>\n",
       "      <td>0</td>\n",
       "    </tr>\n",
       "    <tr>\n",
       "      <th>1</th>\n",
       "      <td>Request for \"offline mmo\"</td>\n",
       "      <td>0</td>\n",
       "    </tr>\n",
       "    <tr>\n",
       "      <th>2</th>\n",
       "      <td>This sub is extremely hypocritical</td>\n",
       "      <td>0</td>\n",
       "    </tr>\n",
       "    <tr>\n",
       "      <th>3</th>\n",
       "      <td>Chapter 15 of Evil Within is kicking my butt//...</td>\n",
       "      <td>0</td>\n",
       "    </tr>\n",
       "    <tr>\n",
       "      <th>4</th>\n",
       "      <td>Turning Inferno into Dust</td>\n",
       "      <td>0</td>\n",
       "    </tr>\n",
       "  </tbody>\n",
       "</table>\n",
       "</div>"
      ],
      "text/plain": [
       "                                               title  pc_sub\n",
       "0  Two Lord of the Rings Inspired Mario Maker Lev...       0\n",
       "1                          Request for \"offline mmo\"       0\n",
       "2                 This sub is extremely hypocritical       0\n",
       "3  Chapter 15 of Evil Within is kicking my butt//...       0\n",
       "4                          Turning Inferno into Dust       0"
      ]
     },
     "execution_count": 2,
     "metadata": {},
     "output_type": "execute_result"
    }
   ],
   "source": [
    "gaming_df = pd.read_csv(\"../datasets/gaming_titles.csv\")\n",
    "gaming_df.head()"
   ]
  },
  {
   "cell_type": "code",
   "execution_count": 3,
   "metadata": {},
   "outputs": [
    {
     "data": {
      "text/html": [
       "<div>\n",
       "<style scoped>\n",
       "    .dataframe tbody tr th:only-of-type {\n",
       "        vertical-align: middle;\n",
       "    }\n",
       "\n",
       "    .dataframe tbody tr th {\n",
       "        vertical-align: top;\n",
       "    }\n",
       "\n",
       "    .dataframe thead th {\n",
       "        text-align: right;\n",
       "    }\n",
       "</style>\n",
       "<table border=\"1\" class=\"dataframe\">\n",
       "  <thead>\n",
       "    <tr style=\"text-align: right;\">\n",
       "      <th></th>\n",
       "      <th>title</th>\n",
       "      <th>pc_sub</th>\n",
       "    </tr>\n",
       "  </thead>\n",
       "  <tbody>\n",
       "    <tr>\n",
       "      <th>0</th>\n",
       "      <td>Crackdown 3 Flying High Update (Official Trailer)</td>\n",
       "      <td>1</td>\n",
       "    </tr>\n",
       "    <tr>\n",
       "      <th>1</th>\n",
       "      <td>New games coming to Gamepass. Shadow of War, D...</td>\n",
       "      <td>1</td>\n",
       "    </tr>\n",
       "    <tr>\n",
       "      <th>2</th>\n",
       "      <td>Super Buckyball Tournament is Coming to Steam ...</td>\n",
       "      <td>1</td>\n",
       "    </tr>\n",
       "    <tr>\n",
       "      <th>3</th>\n",
       "      <td>Skyrim’s murky seas finally get an overhaul un...</td>\n",
       "      <td>1</td>\n",
       "    </tr>\n",
       "    <tr>\n",
       "      <th>4</th>\n",
       "      <td>Nvidia RTX 2060 Super/ RTX 2070 Super Review! ...</td>\n",
       "      <td>1</td>\n",
       "    </tr>\n",
       "  </tbody>\n",
       "</table>\n",
       "</div>"
      ],
      "text/plain": [
       "                                               title  pc_sub\n",
       "0  Crackdown 3 Flying High Update (Official Trailer)       1\n",
       "1  New games coming to Gamepass. Shadow of War, D...       1\n",
       "2  Super Buckyball Tournament is Coming to Steam ...       1\n",
       "3  Skyrim’s murky seas finally get an overhaul un...       1\n",
       "4  Nvidia RTX 2060 Super/ RTX 2070 Super Review! ...       1"
      ]
     },
     "execution_count": 3,
     "metadata": {},
     "output_type": "execute_result"
    }
   ],
   "source": [
    "pcgaming_df = pd.read_csv(\"../datasets/pcgaming_titles.csv\")\n",
    "pcgaming_df.head()"
   ]
  },
  {
   "cell_type": "markdown",
   "metadata": {},
   "source": [
    "Both dataframes are now loaded, but they need to be cleaned a bit before they can really be used for modeling."
   ]
  },
  {
   "cell_type": "markdown",
   "metadata": {},
   "source": [
    "## EDA and Cleaning"
   ]
  },
  {
   "cell_type": "markdown",
   "metadata": {},
   "source": [
    "### Initial EDA"
   ]
  },
  {
   "cell_type": "code",
   "execution_count": 4,
   "metadata": {},
   "outputs": [
    {
     "name": "stdout",
     "output_type": "stream",
     "text": [
      "<class 'pandas.core.frame.DataFrame'>\n",
      "RangeIndex: 1208 entries, 0 to 1207\n",
      "Data columns (total 2 columns):\n",
      "title     1208 non-null object\n",
      "pc_sub    1208 non-null int64\n",
      "dtypes: int64(1), object(1)\n",
      "memory usage: 19.0+ KB\n"
     ]
    }
   ],
   "source": [
    "# there shouldn't be any nulls here, but never hurts to check\n",
    "gaming_df.info()"
   ]
  },
  {
   "cell_type": "code",
   "execution_count": 5,
   "metadata": {},
   "outputs": [
    {
     "name": "stdout",
     "output_type": "stream",
     "text": [
      "<class 'pandas.core.frame.DataFrame'>\n",
      "RangeIndex: 1231 entries, 0 to 1230\n",
      "Data columns (total 2 columns):\n",
      "title     1231 non-null object\n",
      "pc_sub    1231 non-null int64\n",
      "dtypes: int64(1), object(1)\n",
      "memory usage: 19.4+ KB\n"
     ]
    }
   ],
   "source": [
    "pcgaming_df.info()"
   ]
  },
  {
   "cell_type": "markdown",
   "metadata": {},
   "source": [
    "We checked for duplicate entries within each subreddit pull in the first notebook, but did not check for possible cross-posts. We need to see if any of the posts in the r/gaming dataset show up in the r/pcgaming dataset."
   ]
  },
  {
   "cell_type": "code",
   "execution_count": 6,
   "metadata": {},
   "outputs": [
    {
     "data": {
      "text/html": [
       "<div>\n",
       "<style scoped>\n",
       "    .dataframe tbody tr th:only-of-type {\n",
       "        vertical-align: middle;\n",
       "    }\n",
       "\n",
       "    .dataframe tbody tr th {\n",
       "        vertical-align: top;\n",
       "    }\n",
       "\n",
       "    .dataframe thead th {\n",
       "        text-align: right;\n",
       "    }\n",
       "</style>\n",
       "<table border=\"1\" class=\"dataframe\">\n",
       "  <thead>\n",
       "    <tr style=\"text-align: right;\">\n",
       "      <th></th>\n",
       "      <th>title</th>\n",
       "      <th>pc_sub</th>\n",
       "    </tr>\n",
       "  </thead>\n",
       "  <tbody>\n",
       "    <tr>\n",
       "      <th>178</th>\n",
       "      <td>EVE Online players threaten to quit as devs an...</td>\n",
       "      <td>0</td>\n",
       "    </tr>\n",
       "    <tr>\n",
       "      <th>480</th>\n",
       "      <td>The Sinking City - Game based on H.P. Lovecraf...</td>\n",
       "      <td>0</td>\n",
       "    </tr>\n",
       "    <tr>\n",
       "      <th>1089</th>\n",
       "      <td>The ESA Is A Big Piece Of Shit (The Jimquisition)</td>\n",
       "      <td>0</td>\n",
       "    </tr>\n",
       "    <tr>\n",
       "      <th>1160</th>\n",
       "      <td>SMACH Z - Tokyo Game Show 2019!</td>\n",
       "      <td>0</td>\n",
       "    </tr>\n",
       "  </tbody>\n",
       "</table>\n",
       "</div>"
      ],
      "text/plain": [
       "                                                  title  pc_sub\n",
       "178   EVE Online players threaten to quit as devs an...       0\n",
       "480   The Sinking City - Game based on H.P. Lovecraf...       0\n",
       "1089  The ESA Is A Big Piece Of Shit (The Jimquisition)       0\n",
       "1160                    SMACH Z - Tokyo Game Show 2019!       0"
      ]
     },
     "execution_count": 6,
     "metadata": {},
     "output_type": "execute_result"
    }
   ],
   "source": [
    "gaming_df[gaming_df[\"title\"].isin(pcgaming_df[\"title\"]) == True]"
   ]
  },
  {
   "cell_type": "code",
   "execution_count": 7,
   "metadata": {},
   "outputs": [
    {
     "data": {
      "text/html": [
       "<div>\n",
       "<style scoped>\n",
       "    .dataframe tbody tr th:only-of-type {\n",
       "        vertical-align: middle;\n",
       "    }\n",
       "\n",
       "    .dataframe tbody tr th {\n",
       "        vertical-align: top;\n",
       "    }\n",
       "\n",
       "    .dataframe thead th {\n",
       "        text-align: right;\n",
       "    }\n",
       "</style>\n",
       "<table border=\"1\" class=\"dataframe\">\n",
       "  <thead>\n",
       "    <tr style=\"text-align: right;\">\n",
       "      <th></th>\n",
       "      <th>title</th>\n",
       "      <th>pc_sub</th>\n",
       "    </tr>\n",
       "  </thead>\n",
       "  <tbody>\n",
       "    <tr>\n",
       "      <th>157</th>\n",
       "      <td>EVE Online players threaten to quit as devs an...</td>\n",
       "      <td>1</td>\n",
       "    </tr>\n",
       "    <tr>\n",
       "      <th>452</th>\n",
       "      <td>The Sinking City - Game based on H.P. Lovecraf...</td>\n",
       "      <td>1</td>\n",
       "    </tr>\n",
       "    <tr>\n",
       "      <th>1111</th>\n",
       "      <td>The ESA Is A Big Piece Of Shit (The Jimquisition)</td>\n",
       "      <td>1</td>\n",
       "    </tr>\n",
       "    <tr>\n",
       "      <th>1190</th>\n",
       "      <td>SMACH Z - Tokyo Game Show 2019!</td>\n",
       "      <td>1</td>\n",
       "    </tr>\n",
       "  </tbody>\n",
       "</table>\n",
       "</div>"
      ],
      "text/plain": [
       "                                                  title  pc_sub\n",
       "157   EVE Online players threaten to quit as devs an...       1\n",
       "452   The Sinking City - Game based on H.P. Lovecraf...       1\n",
       "1111  The ESA Is A Big Piece Of Shit (The Jimquisition)       1\n",
       "1190                    SMACH Z - Tokyo Game Show 2019!       1"
      ]
     },
     "execution_count": 7,
     "metadata": {},
     "output_type": "execute_result"
    }
   ],
   "source": [
    "# repeating the previous cell to see them in the pcgaming df\n",
    "pcgaming_df[pcgaming_df[\"title\"].isin(gaming_df[\"title\"]) == True]"
   ]
  },
  {
   "cell_type": "markdown",
   "metadata": {},
   "source": [
    "There are 4 posts that appear in both subreddits. These 4 posts will not help the model determine if a prediction should be a 0 or a 1, since it is just as likely, and removing only one post would be incorrectly telling the model that the content is from only one of the subreddits. Therefore, all eight posts need to be removed."
   ]
  },
  {
   "cell_type": "code",
   "execution_count": 8,
   "metadata": {},
   "outputs": [],
   "source": [
    "# saving the cross-posts as new dfs\n",
    "gaming_cross_posts = gaming_df[gaming_df[\"title\"].isin(pcgaming_df[\"title\"]) == True]\n",
    "pc_cross_posts = pcgaming_df[pcgaming_df[\"title\"].isin(gaming_df[\"title\"]) == True]"
   ]
  },
  {
   "cell_type": "markdown",
   "metadata": {},
   "source": [
    "To aid us in understanding these posts and subreddits, we are also going to engineer two new columns with potentially useful information. One column will be the posts overall character length, and one column will be how many words are in the post title."
   ]
  },
  {
   "cell_type": "code",
   "execution_count": 9,
   "metadata": {},
   "outputs": [
    {
     "data": {
      "text/html": [
       "<div>\n",
       "<style scoped>\n",
       "    .dataframe tbody tr th:only-of-type {\n",
       "        vertical-align: middle;\n",
       "    }\n",
       "\n",
       "    .dataframe tbody tr th {\n",
       "        vertical-align: top;\n",
       "    }\n",
       "\n",
       "    .dataframe thead th {\n",
       "        text-align: right;\n",
       "    }\n",
       "</style>\n",
       "<table border=\"1\" class=\"dataframe\">\n",
       "  <thead>\n",
       "    <tr style=\"text-align: right;\">\n",
       "      <th></th>\n",
       "      <th>title</th>\n",
       "      <th>pc_sub</th>\n",
       "      <th>char_len</th>\n",
       "      <th>word_count</th>\n",
       "    </tr>\n",
       "  </thead>\n",
       "  <tbody>\n",
       "    <tr>\n",
       "      <th>0</th>\n",
       "      <td>Two Lord of the Rings Inspired Mario Maker Lev...</td>\n",
       "      <td>0</td>\n",
       "      <td>73</td>\n",
       "      <td>13</td>\n",
       "    </tr>\n",
       "    <tr>\n",
       "      <th>1</th>\n",
       "      <td>Request for \"offline mmo\"</td>\n",
       "      <td>0</td>\n",
       "      <td>25</td>\n",
       "      <td>4</td>\n",
       "    </tr>\n",
       "    <tr>\n",
       "      <th>2</th>\n",
       "      <td>This sub is extremely hypocritical</td>\n",
       "      <td>0</td>\n",
       "      <td>34</td>\n",
       "      <td>5</td>\n",
       "    </tr>\n",
       "    <tr>\n",
       "      <th>3</th>\n",
       "      <td>Chapter 15 of Evil Within is kicking my butt//...</td>\n",
       "      <td>0</td>\n",
       "      <td>115</td>\n",
       "      <td>25</td>\n",
       "    </tr>\n",
       "    <tr>\n",
       "      <th>4</th>\n",
       "      <td>Turning Inferno into Dust</td>\n",
       "      <td>0</td>\n",
       "      <td>25</td>\n",
       "      <td>4</td>\n",
       "    </tr>\n",
       "  </tbody>\n",
       "</table>\n",
       "</div>"
      ],
      "text/plain": [
       "                                               title  pc_sub  char_len  \\\n",
       "0  Two Lord of the Rings Inspired Mario Maker Lev...       0        73   \n",
       "1                          Request for \"offline mmo\"       0        25   \n",
       "2                 This sub is extremely hypocritical       0        34   \n",
       "3  Chapter 15 of Evil Within is kicking my butt//...       0       115   \n",
       "4                          Turning Inferno into Dust       0        25   \n",
       "\n",
       "   word_count  \n",
       "0          13  \n",
       "1           4  \n",
       "2           5  \n",
       "3          25  \n",
       "4           4  "
      ]
     },
     "execution_count": 9,
     "metadata": {},
     "output_type": "execute_result"
    }
   ],
   "source": [
    "# adding a col of the char length of each gming post\n",
    "gaming_df[\"char_len\"] = gaming_df[\"title\"].str.len()\n",
    "\n",
    "# adding col of word count of each post\n",
    "gaming_df[\"word_count\"] = gaming_df[\"title\"].apply(lambda x: len(x.split()))\n",
    "\n",
    "# checking for the new cols\n",
    "gaming_df.head()"
   ]
  },
  {
   "cell_type": "code",
   "execution_count": 10,
   "metadata": {},
   "outputs": [
    {
     "data": {
      "text/html": [
       "<div>\n",
       "<style scoped>\n",
       "    .dataframe tbody tr th:only-of-type {\n",
       "        vertical-align: middle;\n",
       "    }\n",
       "\n",
       "    .dataframe tbody tr th {\n",
       "        vertical-align: top;\n",
       "    }\n",
       "\n",
       "    .dataframe thead th {\n",
       "        text-align: right;\n",
       "    }\n",
       "</style>\n",
       "<table border=\"1\" class=\"dataframe\">\n",
       "  <thead>\n",
       "    <tr style=\"text-align: right;\">\n",
       "      <th></th>\n",
       "      <th>title</th>\n",
       "      <th>pc_sub</th>\n",
       "      <th>char_len</th>\n",
       "      <th>word_count</th>\n",
       "    </tr>\n",
       "  </thead>\n",
       "  <tbody>\n",
       "    <tr>\n",
       "      <th>0</th>\n",
       "      <td>Crackdown 3 Flying High Update (Official Trailer)</td>\n",
       "      <td>1</td>\n",
       "      <td>49</td>\n",
       "      <td>7</td>\n",
       "    </tr>\n",
       "    <tr>\n",
       "      <th>1</th>\n",
       "      <td>New games coming to Gamepass. Shadow of War, D...</td>\n",
       "      <td>1</td>\n",
       "      <td>113</td>\n",
       "      <td>20</td>\n",
       "    </tr>\n",
       "    <tr>\n",
       "      <th>2</th>\n",
       "      <td>Super Buckyball Tournament is Coming to Steam ...</td>\n",
       "      <td>1</td>\n",
       "      <td>74</td>\n",
       "      <td>12</td>\n",
       "    </tr>\n",
       "    <tr>\n",
       "      <th>3</th>\n",
       "      <td>Skyrim’s murky seas finally get an overhaul un...</td>\n",
       "      <td>1</td>\n",
       "      <td>72</td>\n",
       "      <td>12</td>\n",
       "    </tr>\n",
       "    <tr>\n",
       "      <th>4</th>\n",
       "      <td>Nvidia RTX 2060 Super/ RTX 2070 Super Review! ...</td>\n",
       "      <td>1</td>\n",
       "      <td>74</td>\n",
       "      <td>13</td>\n",
       "    </tr>\n",
       "  </tbody>\n",
       "</table>\n",
       "</div>"
      ],
      "text/plain": [
       "                                               title  pc_sub  char_len  \\\n",
       "0  Crackdown 3 Flying High Update (Official Trailer)       1        49   \n",
       "1  New games coming to Gamepass. Shadow of War, D...       1       113   \n",
       "2  Super Buckyball Tournament is Coming to Steam ...       1        74   \n",
       "3  Skyrim’s murky seas finally get an overhaul un...       1        72   \n",
       "4  Nvidia RTX 2060 Super/ RTX 2070 Super Review! ...       1        74   \n",
       "\n",
       "   word_count  \n",
       "0           7  \n",
       "1          20  \n",
       "2          12  \n",
       "3          12  \n",
       "4          13  "
      ]
     },
     "execution_count": 10,
     "metadata": {},
     "output_type": "execute_result"
    }
   ],
   "source": [
    "# duplicating for pcgaming\n",
    "pcgaming_df[\"char_len\"] = pcgaming_df[\"title\"].str.len()\n",
    "\n",
    "# adding col of word count of each post\n",
    "pcgaming_df[\"word_count\"] = pcgaming_df[\"title\"].apply(lambda x: len(x.split()))\n",
    "\n",
    "# checking for the new column\n",
    "pcgaming_df.head()"
   ]
  },
  {
   "cell_type": "code",
   "execution_count": 11,
   "metadata": {},
   "outputs": [
    {
     "data": {
      "text/html": [
       "<div>\n",
       "<style scoped>\n",
       "    .dataframe tbody tr th:only-of-type {\n",
       "        vertical-align: middle;\n",
       "    }\n",
       "\n",
       "    .dataframe tbody tr th {\n",
       "        vertical-align: top;\n",
       "    }\n",
       "\n",
       "    .dataframe thead th {\n",
       "        text-align: right;\n",
       "    }\n",
       "</style>\n",
       "<table border=\"1\" class=\"dataframe\">\n",
       "  <thead>\n",
       "    <tr style=\"text-align: right;\">\n",
       "      <th></th>\n",
       "      <th>pc_sub</th>\n",
       "      <th>char_len</th>\n",
       "      <th>word_count</th>\n",
       "    </tr>\n",
       "  </thead>\n",
       "  <tbody>\n",
       "    <tr>\n",
       "      <th>count</th>\n",
       "      <td>1208.0</td>\n",
       "      <td>1208.000000</td>\n",
       "      <td>1208.000000</td>\n",
       "    </tr>\n",
       "    <tr>\n",
       "      <th>mean</th>\n",
       "      <td>0.0</td>\n",
       "      <td>56.683775</td>\n",
       "      <td>10.450331</td>\n",
       "    </tr>\n",
       "    <tr>\n",
       "      <th>std</th>\n",
       "      <td>0.0</td>\n",
       "      <td>42.280430</td>\n",
       "      <td>8.061231</td>\n",
       "    </tr>\n",
       "    <tr>\n",
       "      <th>min</th>\n",
       "      <td>0.0</td>\n",
       "      <td>1.000000</td>\n",
       "      <td>1.000000</td>\n",
       "    </tr>\n",
       "    <tr>\n",
       "      <th>25%</th>\n",
       "      <td>0.0</td>\n",
       "      <td>29.000000</td>\n",
       "      <td>5.000000</td>\n",
       "    </tr>\n",
       "    <tr>\n",
       "      <th>50%</th>\n",
       "      <td>0.0</td>\n",
       "      <td>46.000000</td>\n",
       "      <td>8.000000</td>\n",
       "    </tr>\n",
       "    <tr>\n",
       "      <th>75%</th>\n",
       "      <td>0.0</td>\n",
       "      <td>70.000000</td>\n",
       "      <td>13.000000</td>\n",
       "    </tr>\n",
       "    <tr>\n",
       "      <th>max</th>\n",
       "      <td>0.0</td>\n",
       "      <td>299.000000</td>\n",
       "      <td>62.000000</td>\n",
       "    </tr>\n",
       "  </tbody>\n",
       "</table>\n",
       "</div>"
      ],
      "text/plain": [
       "       pc_sub     char_len   word_count\n",
       "count  1208.0  1208.000000  1208.000000\n",
       "mean      0.0    56.683775    10.450331\n",
       "std       0.0    42.280430     8.061231\n",
       "min       0.0     1.000000     1.000000\n",
       "25%       0.0    29.000000     5.000000\n",
       "50%       0.0    46.000000     8.000000\n",
       "75%       0.0    70.000000    13.000000\n",
       "max       0.0   299.000000    62.000000"
      ]
     },
     "execution_count": 11,
     "metadata": {},
     "output_type": "execute_result"
    }
   ],
   "source": [
    "# checking the summary stats with the new cols\n",
    "gaming_df.describe()"
   ]
  },
  {
   "cell_type": "code",
   "execution_count": 12,
   "metadata": {},
   "outputs": [
    {
     "data": {
      "text/html": [
       "<div>\n",
       "<style scoped>\n",
       "    .dataframe tbody tr th:only-of-type {\n",
       "        vertical-align: middle;\n",
       "    }\n",
       "\n",
       "    .dataframe tbody tr th {\n",
       "        vertical-align: top;\n",
       "    }\n",
       "\n",
       "    .dataframe thead th {\n",
       "        text-align: right;\n",
       "    }\n",
       "</style>\n",
       "<table border=\"1\" class=\"dataframe\">\n",
       "  <thead>\n",
       "    <tr style=\"text-align: right;\">\n",
       "      <th></th>\n",
       "      <th>pc_sub</th>\n",
       "      <th>char_len</th>\n",
       "      <th>word_count</th>\n",
       "    </tr>\n",
       "  </thead>\n",
       "  <tbody>\n",
       "    <tr>\n",
       "      <th>count</th>\n",
       "      <td>1231.0</td>\n",
       "      <td>1231.000000</td>\n",
       "      <td>1231.000000</td>\n",
       "    </tr>\n",
       "    <tr>\n",
       "      <th>mean</th>\n",
       "      <td>1.0</td>\n",
       "      <td>66.217709</td>\n",
       "      <td>11.402112</td>\n",
       "    </tr>\n",
       "    <tr>\n",
       "      <th>std</th>\n",
       "      <td>0.0</td>\n",
       "      <td>36.902681</td>\n",
       "      <td>6.533961</td>\n",
       "    </tr>\n",
       "    <tr>\n",
       "      <th>min</th>\n",
       "      <td>1.0</td>\n",
       "      <td>4.000000</td>\n",
       "      <td>1.000000</td>\n",
       "    </tr>\n",
       "    <tr>\n",
       "      <th>25%</th>\n",
       "      <td>1.0</td>\n",
       "      <td>42.000000</td>\n",
       "      <td>7.000000</td>\n",
       "    </tr>\n",
       "    <tr>\n",
       "      <th>50%</th>\n",
       "      <td>1.0</td>\n",
       "      <td>58.000000</td>\n",
       "      <td>10.000000</td>\n",
       "    </tr>\n",
       "    <tr>\n",
       "      <th>75%</th>\n",
       "      <td>1.0</td>\n",
       "      <td>81.000000</td>\n",
       "      <td>14.000000</td>\n",
       "    </tr>\n",
       "    <tr>\n",
       "      <th>max</th>\n",
       "      <td>1.0</td>\n",
       "      <td>299.000000</td>\n",
       "      <td>52.000000</td>\n",
       "    </tr>\n",
       "  </tbody>\n",
       "</table>\n",
       "</div>"
      ],
      "text/plain": [
       "       pc_sub     char_len   word_count\n",
       "count  1231.0  1231.000000  1231.000000\n",
       "mean      1.0    66.217709    11.402112\n",
       "std       0.0    36.902681     6.533961\n",
       "min       1.0     4.000000     1.000000\n",
       "25%       1.0    42.000000     7.000000\n",
       "50%       1.0    58.000000    10.000000\n",
       "75%       1.0    81.000000    14.000000\n",
       "max       1.0   299.000000    52.000000"
      ]
     },
     "execution_count": 12,
     "metadata": {},
     "output_type": "execute_result"
    }
   ],
   "source": [
    "# checking the summary stats with the new cols\n",
    "pcgaming_df.describe()"
   ]
  },
  {
   "cell_type": "markdown",
   "metadata": {},
   "source": [
    "It seems odd that the shortest character length of the gaming titles is only 1, this may need some more analysis."
   ]
  },
  {
   "cell_type": "code",
   "execution_count": 13,
   "metadata": {},
   "outputs": [
    {
     "data": {
      "text/html": [
       "<div>\n",
       "<style scoped>\n",
       "    .dataframe tbody tr th:only-of-type {\n",
       "        vertical-align: middle;\n",
       "    }\n",
       "\n",
       "    .dataframe tbody tr th {\n",
       "        vertical-align: top;\n",
       "    }\n",
       "\n",
       "    .dataframe thead th {\n",
       "        text-align: right;\n",
       "    }\n",
       "</style>\n",
       "<table border=\"1\" class=\"dataframe\">\n",
       "  <thead>\n",
       "    <tr style=\"text-align: right;\">\n",
       "      <th></th>\n",
       "      <th>title</th>\n",
       "      <th>pc_sub</th>\n",
       "      <th>char_len</th>\n",
       "      <th>word_count</th>\n",
       "    </tr>\n",
       "  </thead>\n",
       "  <tbody>\n",
       "    <tr>\n",
       "      <th>341</th>\n",
       "      <td>:)</td>\n",
       "      <td>0</td>\n",
       "      <td>2</td>\n",
       "      <td>1</td>\n",
       "    </tr>\n",
       "    <tr>\n",
       "      <th>944</th>\n",
       "      <td>F</td>\n",
       "      <td>0</td>\n",
       "      <td>1</td>\n",
       "      <td>1</td>\n",
       "    </tr>\n",
       "  </tbody>\n",
       "</table>\n",
       "</div>"
      ],
      "text/plain": [
       "    title  pc_sub  char_len  word_count\n",
       "341    :)       0         2           1\n",
       "944     F       0         1           1"
      ]
     },
     "execution_count": 13,
     "metadata": {},
     "output_type": "execute_result"
    }
   ],
   "source": [
    "# checking which posts have very short lengths\n",
    "gaming_df[gaming_df[\"char_len\"] <= 5]"
   ]
  },
  {
   "cell_type": "markdown",
   "metadata": {},
   "source": [
    "The smiley emoticon may not be easily parsed as a word in the modeling process, so it creates an issue. A further check will be performed to determine how many posts contain this emoticon. The second entry is just a letter \"F\", which is a reference to a specific video game (and a [highly ridiculed scene](https://www.gq.com/story/call-of-duty-advanced-warfare-press-to-pay-respects)), so in theory it can be useful."
   ]
  },
  {
   "cell_type": "code",
   "execution_count": 14,
   "metadata": {},
   "outputs": [
    {
     "data": {
      "text/html": [
       "<div>\n",
       "<style scoped>\n",
       "    .dataframe tbody tr th:only-of-type {\n",
       "        vertical-align: middle;\n",
       "    }\n",
       "\n",
       "    .dataframe tbody tr th {\n",
       "        vertical-align: top;\n",
       "    }\n",
       "\n",
       "    .dataframe thead th {\n",
       "        text-align: right;\n",
       "    }\n",
       "</style>\n",
       "<table border=\"1\" class=\"dataframe\">\n",
       "  <thead>\n",
       "    <tr style=\"text-align: right;\">\n",
       "      <th></th>\n",
       "      <th>title</th>\n",
       "      <th>pc_sub</th>\n",
       "      <th>char_len</th>\n",
       "      <th>word_count</th>\n",
       "    </tr>\n",
       "  </thead>\n",
       "  <tbody>\n",
       "    <tr>\n",
       "      <th>35</th>\n",
       "      <td>DOOM</td>\n",
       "      <td>1</td>\n",
       "      <td>4</td>\n",
       "      <td>1</td>\n",
       "    </tr>\n",
       "  </tbody>\n",
       "</table>\n",
       "</div>"
      ],
      "text/plain": [
       "   title  pc_sub  char_len  word_count\n",
       "35  DOOM       1         4           1"
      ]
     },
     "execution_count": 14,
     "metadata": {},
     "output_type": "execute_result"
    }
   ],
   "source": [
    "# checking pcgaming for short posts\n",
    "pcgaming_df[pcgaming_df[\"char_len\"] <= 5]"
   ]
  },
  {
   "cell_type": "markdown",
   "metadata": {},
   "source": [
    "The \"DOOM\" entry, while short, is still could be conferring some kind of meaning (DOOM is a video game) so it can be left alone for now."
   ]
  },
  {
   "cell_type": "code",
   "execution_count": 15,
   "metadata": {},
   "outputs": [
    {
     "data": {
      "text/html": [
       "<div>\n",
       "<style scoped>\n",
       "    .dataframe tbody tr th:only-of-type {\n",
       "        vertical-align: middle;\n",
       "    }\n",
       "\n",
       "    .dataframe tbody tr th {\n",
       "        vertical-align: top;\n",
       "    }\n",
       "\n",
       "    .dataframe thead th {\n",
       "        text-align: right;\n",
       "    }\n",
       "</style>\n",
       "<table border=\"1\" class=\"dataframe\">\n",
       "  <thead>\n",
       "    <tr style=\"text-align: right;\">\n",
       "      <th></th>\n",
       "      <th>title</th>\n",
       "      <th>pc_sub</th>\n",
       "      <th>char_len</th>\n",
       "      <th>word_count</th>\n",
       "    </tr>\n",
       "  </thead>\n",
       "  <tbody>\n",
       "    <tr>\n",
       "      <th>130</th>\n",
       "      <td>Me and my boyfriends new living room, with a 1...</td>\n",
       "      <td>0</td>\n",
       "      <td>105</td>\n",
       "      <td>20</td>\n",
       "    </tr>\n",
       "    <tr>\n",
       "      <th>164</th>\n",
       "      <td>I drew lucario because he’s my favorite smash ...</td>\n",
       "      <td>0</td>\n",
       "      <td>61</td>\n",
       "      <td>11</td>\n",
       "    </tr>\n",
       "    <tr>\n",
       "      <th>222</th>\n",
       "      <td>I love the Switch for the simple fact the cont...</td>\n",
       "      <td>0</td>\n",
       "      <td>112</td>\n",
       "      <td>23</td>\n",
       "    </tr>\n",
       "    <tr>\n",
       "      <th>341</th>\n",
       "      <td>:)</td>\n",
       "      <td>0</td>\n",
       "      <td>2</td>\n",
       "      <td>1</td>\n",
       "    </tr>\n",
       "    <tr>\n",
       "      <th>458</th>\n",
       "      <td>Best bf, reliving childhood this birthday :)</td>\n",
       "      <td>0</td>\n",
       "      <td>44</td>\n",
       "      <td>7</td>\n",
       "    </tr>\n",
       "    <tr>\n",
       "      <th>724</th>\n",
       "      <td>I just want to give a shoutout to cube world. ...</td>\n",
       "      <td>0</td>\n",
       "      <td>143</td>\n",
       "      <td>31</td>\n",
       "    </tr>\n",
       "    <tr>\n",
       "      <th>912</th>\n",
       "      <td>Koffing in one of the Poznań's (Poland) pub :)</td>\n",
       "      <td>0</td>\n",
       "      <td>46</td>\n",
       "      <td>9</td>\n",
       "    </tr>\n",
       "    <tr>\n",
       "      <th>979</th>\n",
       "      <td>As you can see, I'm a HUGE Batman and Spider-M...</td>\n",
       "      <td>0</td>\n",
       "      <td>56</td>\n",
       "      <td>12</td>\n",
       "    </tr>\n",
       "    <tr>\n",
       "      <th>1016</th>\n",
       "      <td>After 3 restarted attempts and a-many F-Bombs ...</td>\n",
       "      <td>0</td>\n",
       "      <td>162</td>\n",
       "      <td>31</td>\n",
       "    </tr>\n",
       "    <tr>\n",
       "      <th>1080</th>\n",
       "      <td>When PUBG meets Adventure Time...a portrait :)</td>\n",
       "      <td>0</td>\n",
       "      <td>46</td>\n",
       "      <td>7</td>\n",
       "    </tr>\n",
       "  </tbody>\n",
       "</table>\n",
       "</div>"
      ],
      "text/plain": [
       "                                                  title  pc_sub  char_len  \\\n",
       "130   Me and my boyfriends new living room, with a 1...       0       105   \n",
       "164   I drew lucario because he’s my favorite smash ...       0        61   \n",
       "222   I love the Switch for the simple fact the cont...       0       112   \n",
       "341                                                  :)       0         2   \n",
       "458        Best bf, reliving childhood this birthday :)       0        44   \n",
       "724   I just want to give a shoutout to cube world. ...       0       143   \n",
       "912      Koffing in one of the Poznań's (Poland) pub :)       0        46   \n",
       "979   As you can see, I'm a HUGE Batman and Spider-M...       0        56   \n",
       "1016  After 3 restarted attempts and a-many F-Bombs ...       0       162   \n",
       "1080     When PUBG meets Adventure Time...a portrait :)       0        46   \n",
       "\n",
       "      word_count  \n",
       "130           20  \n",
       "164           11  \n",
       "222           23  \n",
       "341            1  \n",
       "458            7  \n",
       "724           31  \n",
       "912            9  \n",
       "979           12  \n",
       "1016          31  \n",
       "1080           7  "
      ]
     },
     "execution_count": 15,
     "metadata": {},
     "output_type": "execute_result"
    }
   ],
   "source": [
    "# checking all posts with simple smiley face\n",
    "gaming_df[(gaming_df[\"title\"].str.contains(\":\\)\"))]"
   ]
  },
  {
   "cell_type": "markdown",
   "metadata": {},
   "source": [
    "There are ten post titles utilizing this smiley emoticon. In most of the titles, there is still a significant amount of language being used that confers the idea of the post, meaning that if we take away the emoticon, there is still meaning in the title. We're going to counteract this by removing punctuation later on. This will clear any emoticons from both datasets.\n",
    "\n",
    "For the one post that is just an emoticon, it is not really giving much meaning anyway since there is no other context. Since we are also removing punctuation, that would leave a blank entry. Either way, this row can be removed."
   ]
  },
  {
   "cell_type": "markdown",
   "metadata": {},
   "source": [
    "### Data Cleaning"
   ]
  },
  {
   "cell_type": "markdown",
   "metadata": {},
   "source": [
    "Since we previously identified several posts that were in both datasets, we should start off by removing those."
   ]
  },
  {
   "cell_type": "code",
   "execution_count": 16,
   "metadata": {},
   "outputs": [],
   "source": [
    "# dropping all the cross-posts\n",
    "gaming_df.drop(gaming_cross_posts.index, inplace=True)\n",
    "pcgaming_df.drop(pc_cross_posts.index, inplace=True)"
   ]
  },
  {
   "cell_type": "code",
   "execution_count": 17,
   "metadata": {},
   "outputs": [],
   "source": [
    "# dropping the smiley entry\n",
    "gaming_df.drop(index=341, inplace=True)"
   ]
  },
  {
   "cell_type": "code",
   "execution_count": 18,
   "metadata": {},
   "outputs": [
    {
     "name": "stdout",
     "output_type": "stream",
     "text": [
      "<class 'pandas.core.frame.DataFrame'>\n",
      "Int64Index: 1203 entries, 0 to 1207\n",
      "Data columns (total 4 columns):\n",
      "title         1203 non-null object\n",
      "pc_sub        1203 non-null int64\n",
      "char_len      1203 non-null int64\n",
      "word_count    1203 non-null int64\n",
      "dtypes: int64(3), object(1)\n",
      "memory usage: 47.0+ KB\n"
     ]
    }
   ],
   "source": [
    "# checking the new gaming df\n",
    "gaming_df.info()"
   ]
  },
  {
   "cell_type": "code",
   "execution_count": 19,
   "metadata": {},
   "outputs": [
    {
     "name": "stdout",
     "output_type": "stream",
     "text": [
      "<class 'pandas.core.frame.DataFrame'>\n",
      "Int64Index: 1227 entries, 0 to 1230\n",
      "Data columns (total 4 columns):\n",
      "title         1227 non-null object\n",
      "pc_sub        1227 non-null int64\n",
      "char_len      1227 non-null int64\n",
      "word_count    1227 non-null int64\n",
      "dtypes: int64(3), object(1)\n",
      "memory usage: 47.9+ KB\n"
     ]
    }
   ],
   "source": [
    "# checking the new pcgaming df\n",
    "pcgaming_df.info()"
   ]
  },
  {
   "cell_type": "markdown",
   "metadata": {},
   "source": [
    "Now that we've removed the main problem entries, this would be a good time to \"standardize\" the title entries. Punctuation and non-English characters will be removed, and all the letters will be converted to lowercase."
   ]
  },
  {
   "cell_type": "code",
   "execution_count": 20,
   "metadata": {},
   "outputs": [],
   "source": [
    "# removing non-alpha chars and lowercasing words\n",
    "gaming_df[\"title\"] = gaming_df[\"title\"].apply(lambda x: re.sub('[^ a-zA-Z0-9]','', x).lower())\n",
    "pcgaming_df[\"title\"] = pcgaming_df[\"title\"].apply(lambda x: re.sub('[^ a-zA-Z0-9]','', x).lower())"
   ]
  },
  {
   "cell_type": "code",
   "execution_count": 21,
   "metadata": {},
   "outputs": [
    {
     "data": {
      "text/html": [
       "<div>\n",
       "<style scoped>\n",
       "    .dataframe tbody tr th:only-of-type {\n",
       "        vertical-align: middle;\n",
       "    }\n",
       "\n",
       "    .dataframe tbody tr th {\n",
       "        vertical-align: top;\n",
       "    }\n",
       "\n",
       "    .dataframe thead th {\n",
       "        text-align: right;\n",
       "    }\n",
       "</style>\n",
       "<table border=\"1\" class=\"dataframe\">\n",
       "  <thead>\n",
       "    <tr style=\"text-align: right;\">\n",
       "      <th></th>\n",
       "      <th>title</th>\n",
       "      <th>pc_sub</th>\n",
       "      <th>char_len</th>\n",
       "      <th>word_count</th>\n",
       "    </tr>\n",
       "  </thead>\n",
       "  <tbody>\n",
       "    <tr>\n",
       "      <th>0</th>\n",
       "      <td>two lord of the rings inspired mario maker lev...</td>\n",
       "      <td>0</td>\n",
       "      <td>73</td>\n",
       "      <td>13</td>\n",
       "    </tr>\n",
       "    <tr>\n",
       "      <th>1</th>\n",
       "      <td>request for offline mmo</td>\n",
       "      <td>0</td>\n",
       "      <td>25</td>\n",
       "      <td>4</td>\n",
       "    </tr>\n",
       "    <tr>\n",
       "      <th>2</th>\n",
       "      <td>this sub is extremely hypocritical</td>\n",
       "      <td>0</td>\n",
       "      <td>34</td>\n",
       "      <td>5</td>\n",
       "    </tr>\n",
       "    <tr>\n",
       "      <th>3</th>\n",
       "      <td>chapter 15 of evil within is kicking my butt h...</td>\n",
       "      <td>0</td>\n",
       "      <td>115</td>\n",
       "      <td>25</td>\n",
       "    </tr>\n",
       "    <tr>\n",
       "      <th>4</th>\n",
       "      <td>turning inferno into dust</td>\n",
       "      <td>0</td>\n",
       "      <td>25</td>\n",
       "      <td>4</td>\n",
       "    </tr>\n",
       "  </tbody>\n",
       "</table>\n",
       "</div>"
      ],
      "text/plain": [
       "                                               title  pc_sub  char_len  \\\n",
       "0  two lord of the rings inspired mario maker lev...       0        73   \n",
       "1                            request for offline mmo       0        25   \n",
       "2                 this sub is extremely hypocritical       0        34   \n",
       "3  chapter 15 of evil within is kicking my butt h...       0       115   \n",
       "4                          turning inferno into dust       0        25   \n",
       "\n",
       "   word_count  \n",
       "0          13  \n",
       "1           4  \n",
       "2           5  \n",
       "3          25  \n",
       "4           4  "
      ]
     },
     "execution_count": 21,
     "metadata": {},
     "output_type": "execute_result"
    }
   ],
   "source": [
    "# checking the new heads of the dfs\n",
    "gaming_df.head()"
   ]
  },
  {
   "cell_type": "code",
   "execution_count": 22,
   "metadata": {},
   "outputs": [
    {
     "data": {
      "text/html": [
       "<div>\n",
       "<style scoped>\n",
       "    .dataframe tbody tr th:only-of-type {\n",
       "        vertical-align: middle;\n",
       "    }\n",
       "\n",
       "    .dataframe tbody tr th {\n",
       "        vertical-align: top;\n",
       "    }\n",
       "\n",
       "    .dataframe thead th {\n",
       "        text-align: right;\n",
       "    }\n",
       "</style>\n",
       "<table border=\"1\" class=\"dataframe\">\n",
       "  <thead>\n",
       "    <tr style=\"text-align: right;\">\n",
       "      <th></th>\n",
       "      <th>title</th>\n",
       "      <th>pc_sub</th>\n",
       "      <th>char_len</th>\n",
       "      <th>word_count</th>\n",
       "    </tr>\n",
       "  </thead>\n",
       "  <tbody>\n",
       "    <tr>\n",
       "      <th>0</th>\n",
       "      <td>crackdown 3 flying high update official trailer</td>\n",
       "      <td>1</td>\n",
       "      <td>49</td>\n",
       "      <td>7</td>\n",
       "    </tr>\n",
       "    <tr>\n",
       "      <th>1</th>\n",
       "      <td>new games coming to gamepass shadow of war dea...</td>\n",
       "      <td>1</td>\n",
       "      <td>113</td>\n",
       "      <td>20</td>\n",
       "    </tr>\n",
       "    <tr>\n",
       "      <th>2</th>\n",
       "      <td>super buckyball tournament is coming to steam ...</td>\n",
       "      <td>1</td>\n",
       "      <td>74</td>\n",
       "      <td>12</td>\n",
       "    </tr>\n",
       "    <tr>\n",
       "      <th>3</th>\n",
       "      <td>skyrims murky seas finally get an overhaul und...</td>\n",
       "      <td>1</td>\n",
       "      <td>72</td>\n",
       "      <td>12</td>\n",
       "    </tr>\n",
       "    <tr>\n",
       "      <th>4</th>\n",
       "      <td>nvidia rtx 2060 super rtx 2070 super review br...</td>\n",
       "      <td>1</td>\n",
       "      <td>74</td>\n",
       "      <td>13</td>\n",
       "    </tr>\n",
       "  </tbody>\n",
       "</table>\n",
       "</div>"
      ],
      "text/plain": [
       "                                               title  pc_sub  char_len  \\\n",
       "0    crackdown 3 flying high update official trailer       1        49   \n",
       "1  new games coming to gamepass shadow of war dea...       1       113   \n",
       "2  super buckyball tournament is coming to steam ...       1        74   \n",
       "3  skyrims murky seas finally get an overhaul und...       1        72   \n",
       "4  nvidia rtx 2060 super rtx 2070 super review br...       1        74   \n",
       "\n",
       "   word_count  \n",
       "0           7  \n",
       "1          20  \n",
       "2          12  \n",
       "3          12  \n",
       "4          13  "
      ]
     },
     "execution_count": 22,
     "metadata": {},
     "output_type": "execute_result"
    }
   ],
   "source": [
    "pcgaming_df.head()"
   ]
  },
  {
   "cell_type": "markdown",
   "metadata": {},
   "source": [
    "Now that we've removed unwanted characters, it would be a good time to make sure none of the entries were significantly changed by this process. We can reset the `char_len` column and check the summary statistics."
   ]
  },
  {
   "cell_type": "code",
   "execution_count": 23,
   "metadata": {},
   "outputs": [],
   "source": [
    "gaming_df[\"char_len\"] = gaming_df[\"title\"].str.len()\n",
    "pcgaming_df[\"char_len\"] = pcgaming_df[\"title\"].str.len()"
   ]
  },
  {
   "cell_type": "code",
   "execution_count": 24,
   "metadata": {},
   "outputs": [
    {
     "data": {
      "text/html": [
       "<div>\n",
       "<style scoped>\n",
       "    .dataframe tbody tr th:only-of-type {\n",
       "        vertical-align: middle;\n",
       "    }\n",
       "\n",
       "    .dataframe tbody tr th {\n",
       "        vertical-align: top;\n",
       "    }\n",
       "\n",
       "    .dataframe thead th {\n",
       "        text-align: right;\n",
       "    }\n",
       "</style>\n",
       "<table border=\"1\" class=\"dataframe\">\n",
       "  <thead>\n",
       "    <tr style=\"text-align: right;\">\n",
       "      <th></th>\n",
       "      <th>pc_sub</th>\n",
       "      <th>char_len</th>\n",
       "      <th>word_count</th>\n",
       "    </tr>\n",
       "  </thead>\n",
       "  <tbody>\n",
       "    <tr>\n",
       "      <th>count</th>\n",
       "      <td>1203.0</td>\n",
       "      <td>1203.000000</td>\n",
       "      <td>1203.000000</td>\n",
       "    </tr>\n",
       "    <tr>\n",
       "      <th>mean</th>\n",
       "      <td>0.0</td>\n",
       "      <td>54.846218</td>\n",
       "      <td>10.450540</td>\n",
       "    </tr>\n",
       "    <tr>\n",
       "      <th>std</th>\n",
       "      <td>0.0</td>\n",
       "      <td>41.014755</td>\n",
       "      <td>8.065756</td>\n",
       "    </tr>\n",
       "    <tr>\n",
       "      <th>min</th>\n",
       "      <td>0.0</td>\n",
       "      <td>1.000000</td>\n",
       "      <td>1.000000</td>\n",
       "    </tr>\n",
       "    <tr>\n",
       "      <th>25%</th>\n",
       "      <td>0.0</td>\n",
       "      <td>28.000000</td>\n",
       "      <td>5.000000</td>\n",
       "    </tr>\n",
       "    <tr>\n",
       "      <th>50%</th>\n",
       "      <td>0.0</td>\n",
       "      <td>45.000000</td>\n",
       "      <td>8.000000</td>\n",
       "    </tr>\n",
       "    <tr>\n",
       "      <th>75%</th>\n",
       "      <td>0.0</td>\n",
       "      <td>68.000000</td>\n",
       "      <td>13.000000</td>\n",
       "    </tr>\n",
       "    <tr>\n",
       "      <th>max</th>\n",
       "      <td>0.0</td>\n",
       "      <td>296.000000</td>\n",
       "      <td>62.000000</td>\n",
       "    </tr>\n",
       "  </tbody>\n",
       "</table>\n",
       "</div>"
      ],
      "text/plain": [
       "       pc_sub     char_len   word_count\n",
       "count  1203.0  1203.000000  1203.000000\n",
       "mean      0.0    54.846218    10.450540\n",
       "std       0.0    41.014755     8.065756\n",
       "min       0.0     1.000000     1.000000\n",
       "25%       0.0    28.000000     5.000000\n",
       "50%       0.0    45.000000     8.000000\n",
       "75%       0.0    68.000000    13.000000\n",
       "max       0.0   296.000000    62.000000"
      ]
     },
     "execution_count": 24,
     "metadata": {},
     "output_type": "execute_result"
    }
   ],
   "source": [
    "# making final checks\n",
    "gaming_df.describe()"
   ]
  },
  {
   "cell_type": "code",
   "execution_count": 25,
   "metadata": {},
   "outputs": [
    {
     "data": {
      "text/html": [
       "<div>\n",
       "<style scoped>\n",
       "    .dataframe tbody tr th:only-of-type {\n",
       "        vertical-align: middle;\n",
       "    }\n",
       "\n",
       "    .dataframe tbody tr th {\n",
       "        vertical-align: top;\n",
       "    }\n",
       "\n",
       "    .dataframe thead th {\n",
       "        text-align: right;\n",
       "    }\n",
       "</style>\n",
       "<table border=\"1\" class=\"dataframe\">\n",
       "  <thead>\n",
       "    <tr style=\"text-align: right;\">\n",
       "      <th></th>\n",
       "      <th>pc_sub</th>\n",
       "      <th>char_len</th>\n",
       "      <th>word_count</th>\n",
       "    </tr>\n",
       "  </thead>\n",
       "  <tbody>\n",
       "    <tr>\n",
       "      <th>count</th>\n",
       "      <td>1227.0</td>\n",
       "      <td>1227.000000</td>\n",
       "      <td>1227.000000</td>\n",
       "    </tr>\n",
       "    <tr>\n",
       "      <th>mean</th>\n",
       "      <td>1.0</td>\n",
       "      <td>64.126324</td>\n",
       "      <td>11.397718</td>\n",
       "    </tr>\n",
       "    <tr>\n",
       "      <th>std</th>\n",
       "      <td>0.0</td>\n",
       "      <td>35.731729</td>\n",
       "      <td>6.536253</td>\n",
       "    </tr>\n",
       "    <tr>\n",
       "      <th>min</th>\n",
       "      <td>1.0</td>\n",
       "      <td>4.000000</td>\n",
       "      <td>1.000000</td>\n",
       "    </tr>\n",
       "    <tr>\n",
       "      <th>25%</th>\n",
       "      <td>1.0</td>\n",
       "      <td>40.000000</td>\n",
       "      <td>7.000000</td>\n",
       "    </tr>\n",
       "    <tr>\n",
       "      <th>50%</th>\n",
       "      <td>1.0</td>\n",
       "      <td>56.000000</td>\n",
       "      <td>10.000000</td>\n",
       "    </tr>\n",
       "    <tr>\n",
       "      <th>75%</th>\n",
       "      <td>1.0</td>\n",
       "      <td>79.000000</td>\n",
       "      <td>14.000000</td>\n",
       "    </tr>\n",
       "    <tr>\n",
       "      <th>max</th>\n",
       "      <td>1.0</td>\n",
       "      <td>278.000000</td>\n",
       "      <td>52.000000</td>\n",
       "    </tr>\n",
       "  </tbody>\n",
       "</table>\n",
       "</div>"
      ],
      "text/plain": [
       "       pc_sub     char_len   word_count\n",
       "count  1227.0  1227.000000  1227.000000\n",
       "mean      1.0    64.126324    11.397718\n",
       "std       0.0    35.731729     6.536253\n",
       "min       1.0     4.000000     1.000000\n",
       "25%       1.0    40.000000     7.000000\n",
       "50%       1.0    56.000000    10.000000\n",
       "75%       1.0    79.000000    14.000000\n",
       "max       1.0   278.000000    52.000000"
      ]
     },
     "execution_count": 25,
     "metadata": {},
     "output_type": "execute_result"
    }
   ],
   "source": [
    "pcgaming_df.describe()"
   ]
  },
  {
   "cell_type": "markdown",
   "metadata": {},
   "source": [
    "There does appear to be a slight shift down in all of the statistics, but this is to be expected - excess characters have been removed. Outside of this expected change, there have not been many significant changes.\n",
    "\n",
    "The one value that now sticks out is the max length within pcgaming. Previously, this value was 299, but is now 278 after the cleaning. This indicates that there was a title with a large amount of non-English characters, which could be punctuation or perhaps another language."
   ]
  },
  {
   "cell_type": "markdown",
   "metadata": {},
   "source": [
    "### Additional EDA/Cleaning"
   ]
  },
  {
   "cell_type": "markdown",
   "metadata": {},
   "source": [
    "While there did not initially appear to be a lot to exploration/visualization to do with this dataset, there are now a few interesting areas that are worth looking into. There is still information to be found in the data."
   ]
  },
  {
   "cell_type": "markdown",
   "metadata": {},
   "source": [
    "#### Title Lengths"
   ]
  },
  {
   "cell_type": "code",
   "execution_count": 26,
   "metadata": {},
   "outputs": [
    {
     "name": "stdout",
     "output_type": "stream",
     "text": [
      "The average r/gaming post is: 54.84621778886118 characters long\n",
      "The average r/pcgaming post is: 64.12632436837816 characters long\n"
     ]
    }
   ],
   "source": [
    "# checking the mean title length of each subreddit\n",
    "print(f\"The average r/gaming post is: {gaming_df['char_len'].mean()} characters long\")\n",
    "print(f\"The average r/pcgaming post is: {pcgaming_df['char_len'].mean()} characters long\")"
   ]
  },
  {
   "cell_type": "code",
   "execution_count": 27,
   "metadata": {
    "scrolled": false
   },
   "outputs": [
    {
     "data": {
      "image/png": "[encoded data removed]",
      "text/plain": [
       "<Figure size 576x432 with 1 Axes>"
      ]
     },
     "metadata": {
      "needs_background": "light"
     },
     "output_type": "display_data"
    }
   ],
   "source": [
    "# making a histogram of the two post lengths\n",
    "plt.figure(figsize=(8, 6))\n",
    "sns.distplot(gaming_df[\"char_len\"], kde=False, bins=20, label=\"r/gaming\", color=\"red\")\n",
    "sns.distplot(pcgaming_df[\"char_len\"], kde=False, bins=20, label=\"r/pcgaming\", color=\"blue\")\n",
    "plt.title(\"Distribution of Title Characters\", size=20)\n",
    "plt.xlabel(\"Characters in Title\", size=15)\n",
    "plt.xticks(range(0, 301, 25))\n",
    "plt.ylabel(\"Frequency of Count\", size=15)\n",
    "plt.legend();"
   ]
  },
  {
   "cell_type": "markdown",
   "metadata": {},
   "source": [
    "It seems that posts in r/pcgaming have on average just under 10 more characters in their titles.\n",
    "\n",
    "There is also a small, but distinct, difference in the distributions of the title lengths. They are both right-tailed, but the r/pcgaming posts have fewer short titles overall, with more titles in the 50-100 character range, shifting the distribution to the right. We can see from the purple overlapping section that there is a large amount of title lengths that are very similar between the two subreddits.\n",
    "\n",
    "We can also compare the word counts between the subreddits with the same type of histogram."
   ]
  },
  {
   "cell_type": "code",
   "execution_count": 28,
   "metadata": {},
   "outputs": [
    {
     "data": {
      "image/png": "[encoded data removed]",
      "text/plain": [
       "<Figure size 576x432 with 1 Axes>"
      ]
     },
     "metadata": {
      "needs_background": "light"
     },
     "output_type": "display_data"
    }
   ],
   "source": [
    "# checking the word length dists\n",
    "plt.figure(figsize=(8, 6))\n",
    "sns.distplot(gaming_df[\"word_count\"], kde=False, bins=20, label=\"r/gaming\", color=\"red\")\n",
    "sns.distplot(pcgaming_df[\"word_count\"], kde=False, bins=20, label=\"r/pcgaming\", color=\"blue\")\n",
    "plt.title(\"Distribution of Title Words\", size=20)\n",
    "plt.xlabel(\"Words in Title\", size=15)\n",
    "# plt.xticks(range(0, 61, 10))\n",
    "plt.ylabel(\"Frequency of Count\", size=15)\n",
    "plt.legend();"
   ]
  },
  {
   "cell_type": "markdown",
   "metadata": {},
   "source": [
    "Again there is a lot of overlap (the purple region), but the pcgaming subreddit has a shifted plot, showing a tendency to more words in the titles than the gaming subreddit. These two plots show that the word and character counts have some separability between subreddits, and may be beneficial features to have in the modeling process."
   ]
  },
  {
   "cell_type": "markdown",
   "metadata": {},
   "source": [
    "#### Count Vectorizing"
   ]
  },
  {
   "cell_type": "markdown",
   "metadata": {},
   "source": [
    "We can also now look at the counts of individual words in each title or subreddit. We can use a count vectorizer to do this split and count for us, without actually doing the modeling step at this point.\n",
    "\n",
    "Through multiple iterations of this process there were two actions identified that we want to take on our data before we perform the count vectorization: Removing stop words, and stemming the remaining words.\n",
    "\n",
    "Even with the standard stop words removed, there were some remaining words that were coming up very frequently in both subreddits. Theses included \"game\", \"games\", and \"gaming\", which would be expected to be used a lot in subreddits with \"gaming\" in their names. As such, these were also good candidates to be considered \"stop words\" and were removed.\n",
    "\n",
    "Stop words are words that are structural, but without conveying meaning (such as conjunctions). Because of this, they can be removed to get a better idea of the more significant words that appear in the titles. We started with NLTK's standard list of stop words, but that did not end up taking care of all of the highly common words. There were some remaining words that were coming up very frequently in both subreddits. Theses included \"game\", \"games\", and \"gaming\", which would be expected to be used a lot in subreddits with \"gaming\" in their names. As such, these were also good candidates to be considered \"stop words\" and were removed. One entry that was more interesting to see was that \"PC\" was not only one of the top used words in r/pcgaming, but also had a fairly high ranking in r/gaming as well.\n",
    "\n",
    "Stemming involves bringing words down to their roots, so having multiple variations of the same word don't get counted differently. `PorterStemmer` will be used to perform this action, instead of the less extreme `WordNetLemmatizer` because it was found that the lemmatizer was not affecting certain desired words as well as the stemmer was."
   ]
  },
  {
   "cell_type": "code",
   "execution_count": 29,
   "metadata": {},
   "outputs": [],
   "source": [
    "# instantiating the stemmer\n",
    "stemmer = PorterStemmer()"
   ]
  },
  {
   "cell_type": "code",
   "execution_count": 30,
   "metadata": {},
   "outputs": [],
   "source": [
    "# making a list to store the standard + custom stop wrods\n",
    "s_words = stopwords.words('english')\n",
    "\n",
    "# making a list of the custom words to add\n",
    "my_words = [\"game\", \"games\", \"gaming\", \"new\", \"play\", \"get\", \"pc\"]\n",
    "\n",
    "# extending the standard stop words with the custom words\n",
    "s_words.extend(my_words)"
   ]
  },
  {
   "cell_type": "markdown",
   "metadata": {},
   "source": [
    "Now that we have our custom stop words list, we need to iterate  each of the titles and remove the correct words. This can be done by splitting up each title into its separate words, checking each word against the stop words, and keeping only the ones that do not match."
   ]
  },
  {
   "cell_type": "code",
   "execution_count": 31,
   "metadata": {},
   "outputs": [],
   "source": [
    "# removing stop words from both dfs\n",
    "gaming_df[\"title\"] = gaming_df[\"title\"].apply(\n",
    "    lambda x: \" \".join([word for word in x.split() if word not in s_words])\n",
    ")\n",
    "pcgaming_df[\"title\"] = pcgaming_df[\"title\"].apply(\n",
    "    lambda x: \" \".join([word for word in x.split() if word not in s_words])\n",
    ")"
   ]
  },
  {
   "cell_type": "markdown",
   "metadata": {},
   "source": [
    "This is also a good time to stem the remaining words into their roots."
   ]
  },
  {
   "cell_type": "code",
   "execution_count": 32,
   "metadata": {},
   "outputs": [],
   "source": [
    "# repeating the lambda functions from above, but stemming the words this time\n",
    "gaming_df[\"title\"] = gaming_df[\"title\"].apply(\n",
    "    lambda x: \" \".join([stemmer.stem(word) for word in x.split()])\n",
    ")\n",
    "pcgaming_df[\"title\"] = pcgaming_df[\"title\"].apply(\n",
    "    lambda x: \" \".join([stemmer.stem(word) for word in x.split()])\n",
    ")"
   ]
  },
  {
   "cell_type": "code",
   "execution_count": 33,
   "metadata": {},
   "outputs": [
    {
     "data": {
      "text/html": [
       "<div>\n",
       "<style scoped>\n",
       "    .dataframe tbody tr th:only-of-type {\n",
       "        vertical-align: middle;\n",
       "    }\n",
       "\n",
       "    .dataframe tbody tr th {\n",
       "        vertical-align: top;\n",
       "    }\n",
       "\n",
       "    .dataframe thead th {\n",
       "        text-align: right;\n",
       "    }\n",
       "</style>\n",
       "<table border=\"1\" class=\"dataframe\">\n",
       "  <thead>\n",
       "    <tr style=\"text-align: right;\">\n",
       "      <th></th>\n",
       "      <th>title</th>\n",
       "      <th>pc_sub</th>\n",
       "      <th>char_len</th>\n",
       "      <th>word_count</th>\n",
       "    </tr>\n",
       "  </thead>\n",
       "  <tbody>\n",
       "    <tr>\n",
       "      <th>0</th>\n",
       "      <td>two lord ring inspir mario maker level hope come</td>\n",
       "      <td>0</td>\n",
       "      <td>72</td>\n",
       "      <td>13</td>\n",
       "    </tr>\n",
       "    <tr>\n",
       "      <th>1</th>\n",
       "      <td>request offlin mmo</td>\n",
       "      <td>0</td>\n",
       "      <td>23</td>\n",
       "      <td>4</td>\n",
       "    </tr>\n",
       "    <tr>\n",
       "      <th>2</th>\n",
       "      <td>sub extrem hypocrit</td>\n",
       "      <td>0</td>\n",
       "      <td>34</td>\n",
       "      <td>5</td>\n",
       "    </tr>\n",
       "    <tr>\n",
       "      <th>3</th>\n",
       "      <td>chapter 15 evil within kick butt go second one...</td>\n",
       "      <td>0</td>\n",
       "      <td>111</td>\n",
       "      <td>25</td>\n",
       "    </tr>\n",
       "    <tr>\n",
       "      <th>4</th>\n",
       "      <td>turn inferno dust</td>\n",
       "      <td>0</td>\n",
       "      <td>25</td>\n",
       "      <td>4</td>\n",
       "    </tr>\n",
       "  </tbody>\n",
       "</table>\n",
       "</div>"
      ],
      "text/plain": [
       "                                               title  pc_sub  char_len  \\\n",
       "0   two lord ring inspir mario maker level hope come       0        72   \n",
       "1                                 request offlin mmo       0        23   \n",
       "2                                sub extrem hypocrit       0        34   \n",
       "3  chapter 15 evil within kick butt go second one...       0       111   \n",
       "4                                  turn inferno dust       0        25   \n",
       "\n",
       "   word_count  \n",
       "0          13  \n",
       "1           4  \n",
       "2           5  \n",
       "3          25  \n",
       "4           4  "
      ]
     },
     "execution_count": 33,
     "metadata": {},
     "output_type": "execute_result"
    }
   ],
   "source": [
    "# checking the heads of both dfs for the changes\n",
    "gaming_df.head()"
   ]
  },
  {
   "cell_type": "code",
   "execution_count": 34,
   "metadata": {},
   "outputs": [
    {
     "data": {
      "text/html": [
       "<div>\n",
       "<style scoped>\n",
       "    .dataframe tbody tr th:only-of-type {\n",
       "        vertical-align: middle;\n",
       "    }\n",
       "\n",
       "    .dataframe tbody tr th {\n",
       "        vertical-align: top;\n",
       "    }\n",
       "\n",
       "    .dataframe thead th {\n",
       "        text-align: right;\n",
       "    }\n",
       "</style>\n",
       "<table border=\"1\" class=\"dataframe\">\n",
       "  <thead>\n",
       "    <tr style=\"text-align: right;\">\n",
       "      <th></th>\n",
       "      <th>title</th>\n",
       "      <th>pc_sub</th>\n",
       "      <th>char_len</th>\n",
       "      <th>word_count</th>\n",
       "    </tr>\n",
       "  </thead>\n",
       "  <tbody>\n",
       "    <tr>\n",
       "      <th>0</th>\n",
       "      <td>crackdown 3 fli high updat offici trailer</td>\n",
       "      <td>1</td>\n",
       "      <td>47</td>\n",
       "      <td>7</td>\n",
       "    </tr>\n",
       "    <tr>\n",
       "      <th>1</th>\n",
       "      <td>come gamepass shadow war dead rise 4 undertal ...</td>\n",
       "      <td>1</td>\n",
       "      <td>108</td>\n",
       "      <td>20</td>\n",
       "    </tr>\n",
       "    <tr>\n",
       "      <th>2</th>\n",
       "      <td>super buckybal tournament come steam earli acc...</td>\n",
       "      <td>1</td>\n",
       "      <td>74</td>\n",
       "      <td>12</td>\n",
       "    </tr>\n",
       "    <tr>\n",
       "      <th>3</th>\n",
       "      <td>skyrim murki sea final overhaul underwat mod 8...</td>\n",
       "      <td>1</td>\n",
       "      <td>71</td>\n",
       "      <td>12</td>\n",
       "    </tr>\n",
       "    <tr>\n",
       "      <th>4</th>\n",
       "      <td>nvidia rtx 2060 super rtx 2070 super review br...</td>\n",
       "      <td>1</td>\n",
       "      <td>71</td>\n",
       "      <td>13</td>\n",
       "    </tr>\n",
       "  </tbody>\n",
       "</table>\n",
       "</div>"
      ],
      "text/plain": [
       "                                               title  pc_sub  char_len  \\\n",
       "0          crackdown 3 fli high updat offici trailer       1        47   \n",
       "1  come gamepass shadow war dead rise 4 undertal ...       1       108   \n",
       "2  super buckybal tournament come steam earli acc...       1        74   \n",
       "3  skyrim murki sea final overhaul underwat mod 8...       1        71   \n",
       "4  nvidia rtx 2060 super rtx 2070 super review br...       1        71   \n",
       "\n",
       "   word_count  \n",
       "0           7  \n",
       "1          20  \n",
       "2          12  \n",
       "3          12  \n",
       "4          13  "
      ]
     },
     "execution_count": 34,
     "metadata": {},
     "output_type": "execute_result"
    }
   ],
   "source": [
    "pcgaming_df.head()"
   ]
  },
  {
   "cell_type": "code",
   "execution_count": 35,
   "metadata": {},
   "outputs": [
    {
     "data": {
      "text/plain": [
       "one      51\n",
       "video    44\n",
       "im       44\n",
       "year     43\n",
       "play     42\n",
       "look     39\n",
       "like     39\n",
       "time     38\n",
       "good     38\n",
       "best     35\n",
       "dtype: int64"
      ]
     },
     "execution_count": 35,
     "metadata": {},
     "output_type": "execute_result"
    }
   ],
   "source": [
    "# instantiating a cvec for single words\n",
    "gaming_cvec = CountVectorizer(ngram_range=(1, 1))\n",
    "\n",
    "# fitting/transforming the gaming titles\n",
    "eda_gaming_cvec = gaming_cvec.fit_transform(gaming_df[\"title\"])\n",
    "\n",
    "# making a dataframe of the vectors\n",
    "eda_gaming_cvec_df = pd.DataFrame(eda_gaming_cvec.toarray(),\n",
    "                                columns=gaming_cvec.get_feature_names())\n",
    "# getting the top 10 most used words\n",
    "eda_gaming_cvec_df.sum().sort_values(ascending=False).head(10)"
   ]
  },
  {
   "cell_type": "code",
   "execution_count": 36,
   "metadata": {},
   "outputs": [
    {
     "data": {
      "text/plain": [
       "Text(0.5, 0, 'Number of Posts')"
      ]
     },
     "execution_count": 36,
     "metadata": {},
     "output_type": "execute_result"
    },
    {
     "data": {
      "image/png": "[encoded data removed]",
      "text/plain": [
       "<Figure size 432x288 with 1 Axes>"
      ]
     },
     "metadata": {
      "needs_background": "light"
     },
     "output_type": "display_data"
    }
   ],
   "source": [
    "# plotting \n",
    "eda_gaming_cvec_df.sum().sort_values(ascending=True).tail(10).plot(kind=\"barh\")\n",
    "plt.title(\"Most Frequent Words in r/gaming Post Titles\", size=20)\n",
    "plt.xlabel(\"Number of Posts\", size=15)"
   ]
  },
  {
   "cell_type": "markdown",
   "metadata": {},
   "source": [
    "We can see from this plot that the most frequent word is \"play\", and yet it does not occur in even 10% of the total dataset of >600 post titles. Overall, these words are somewhat vague, though they still retain some gaming-related entries. \"Play\", \"video\", even \"help\" seem like they could be relevant to gaming-related posts. The fact that most of the posts in r/gaming seem to be jokes and memes could explain why these are the top words. \"switch comes in as the 10th most used word, which is the name of Nintendo's most recent gaming console. This should definitely be a helpful word to leverage, as it is unlikely to have the same frequency in r/pcgaming."
   ]
  },
  {
   "cell_type": "code",
   "execution_count": 37,
   "metadata": {},
   "outputs": [
    {
     "data": {
      "text/plain": [
       "steam         132\n",
       "trailer       116\n",
       "releas         97\n",
       "2019           60\n",
       "free           46\n",
       "come           45\n",
       "epic           44\n",
       "launch         41\n",
       "review         39\n",
       "borderland     38\n",
       "dtype: int64"
      ]
     },
     "execution_count": 37,
     "metadata": {},
     "output_type": "execute_result"
    }
   ],
   "source": [
    "# repeating the same for pcgaming...\n",
    "\n",
    "# instantiating a cvec for single words\n",
    "pcgaming_cvec = CountVectorizer(ngram_range=(1, 1))\n",
    "\n",
    "# fitting/transforming the gaming titles\n",
    "eda_pcgaming_cvec = pcgaming_cvec.fit_transform(pcgaming_df[\"title\"])\n",
    "\n",
    "# making a dataframe of the vectors\n",
    "eda_pcgaming_cvec_df = pd.DataFrame(eda_pcgaming_cvec.toarray(),\n",
    "                                columns=pcgaming_cvec.get_feature_names())\n",
    "# getting the top 10 most used words\n",
    "eda_pcgaming_cvec_df.sum().sort_values(ascending=False).head(10)"
   ]
  },
  {
   "cell_type": "code",
   "execution_count": 38,
   "metadata": {},
   "outputs": [
    {
     "data": {
      "text/plain": [
       "Text(0.5, 0, 'Number of Posts')"
      ]
     },
     "execution_count": 38,
     "metadata": {},
     "output_type": "execute_result"
    },
    {
     "data": {
      "image/png": "[encoded data removed]",
      "text/plain": [
       "<Figure size 432x288 with 1 Axes>"
      ]
     },
     "metadata": {
      "needs_background": "light"
     },
     "output_type": "display_data"
    }
   ],
   "source": [
    "eda_pcgaming_cvec_df.sum().sort_values(ascending=True).tail(10).plot(kind=\"barh\")\n",
    "plt.title(\"Most Frequent Words in r/pcgaming Post Titles\", size=20)\n",
    "plt.xlabel(\"Number of Posts\", size=15)"
   ]
  },
  {
   "cell_type": "markdown",
   "metadata": {},
   "source": [
    "In r/pcgaming, the top few words are already much more specific than in r/gaming. The most frequent term, \"steam\", is the name of a PC-based gaming client, and is typically the subject of much discussion. Many of the remaining words seem to be centered around games that are about to come out or have recently come out - \"trailer\", \"release\", \"launch\", \"review\". Overall, this subreddit is a bit more serious in its tone, typically making posts to spread news or create discussions around issues in the gaming community."
   ]
  },
  {
   "cell_type": "markdown",
   "metadata": {},
   "source": [
    "With both of our datasets ready to go, the last step before the modeling process begins is to combine both datasets into one dataframe."
   ]
  },
  {
   "cell_type": "code",
   "execution_count": 39,
   "metadata": {},
   "outputs": [],
   "source": [
    "# concatenating the two dfs, and giving the full df a continuing index\n",
    "posts_df = pd.concat([gaming_df, pcgaming_df], ignore_index=True)"
   ]
  },
  {
   "cell_type": "code",
   "execution_count": 40,
   "metadata": {},
   "outputs": [
    {
     "data": {
      "text/html": [
       "<div>\n",
       "<style scoped>\n",
       "    .dataframe tbody tr th:only-of-type {\n",
       "        vertical-align: middle;\n",
       "    }\n",
       "\n",
       "    .dataframe tbody tr th {\n",
       "        vertical-align: top;\n",
       "    }\n",
       "\n",
       "    .dataframe thead th {\n",
       "        text-align: right;\n",
       "    }\n",
       "</style>\n",
       "<table border=\"1\" class=\"dataframe\">\n",
       "  <thead>\n",
       "    <tr style=\"text-align: right;\">\n",
       "      <th></th>\n",
       "      <th>title</th>\n",
       "      <th>pc_sub</th>\n",
       "      <th>char_len</th>\n",
       "      <th>word_count</th>\n",
       "    </tr>\n",
       "  </thead>\n",
       "  <tbody>\n",
       "    <tr>\n",
       "      <th>0</th>\n",
       "      <td>two lord ring inspir mario maker level hope come</td>\n",
       "      <td>0</td>\n",
       "      <td>72</td>\n",
       "      <td>13</td>\n",
       "    </tr>\n",
       "    <tr>\n",
       "      <th>1</th>\n",
       "      <td>request offlin mmo</td>\n",
       "      <td>0</td>\n",
       "      <td>23</td>\n",
       "      <td>4</td>\n",
       "    </tr>\n",
       "    <tr>\n",
       "      <th>2</th>\n",
       "      <td>sub extrem hypocrit</td>\n",
       "      <td>0</td>\n",
       "      <td>34</td>\n",
       "      <td>5</td>\n",
       "    </tr>\n",
       "    <tr>\n",
       "      <th>3</th>\n",
       "      <td>chapter 15 evil within kick butt go second one...</td>\n",
       "      <td>0</td>\n",
       "      <td>111</td>\n",
       "      <td>25</td>\n",
       "    </tr>\n",
       "    <tr>\n",
       "      <th>4</th>\n",
       "      <td>turn inferno dust</td>\n",
       "      <td>0</td>\n",
       "      <td>25</td>\n",
       "      <td>4</td>\n",
       "    </tr>\n",
       "  </tbody>\n",
       "</table>\n",
       "</div>"
      ],
      "text/plain": [
       "                                               title  pc_sub  char_len  \\\n",
       "0   two lord ring inspir mario maker level hope come       0        72   \n",
       "1                                 request offlin mmo       0        23   \n",
       "2                                sub extrem hypocrit       0        34   \n",
       "3  chapter 15 evil within kick butt go second one...       0       111   \n",
       "4                                  turn inferno dust       0        25   \n",
       "\n",
       "   word_count  \n",
       "0          13  \n",
       "1           4  \n",
       "2           5  \n",
       "3          25  \n",
       "4           4  "
      ]
     },
     "execution_count": 40,
     "metadata": {},
     "output_type": "execute_result"
    }
   ],
   "source": [
    "posts_df.head()"
   ]
  },
  {
   "cell_type": "code",
   "execution_count": 41,
   "metadata": {},
   "outputs": [
    {
     "data": {
      "text/html": [
       "<div>\n",
       "<style scoped>\n",
       "    .dataframe tbody tr th:only-of-type {\n",
       "        vertical-align: middle;\n",
       "    }\n",
       "\n",
       "    .dataframe tbody tr th {\n",
       "        vertical-align: top;\n",
       "    }\n",
       "\n",
       "    .dataframe thead th {\n",
       "        text-align: right;\n",
       "    }\n",
       "</style>\n",
       "<table border=\"1\" class=\"dataframe\">\n",
       "  <thead>\n",
       "    <tr style=\"text-align: right;\">\n",
       "      <th></th>\n",
       "      <th>title</th>\n",
       "      <th>pc_sub</th>\n",
       "      <th>char_len</th>\n",
       "      <th>word_count</th>\n",
       "    </tr>\n",
       "  </thead>\n",
       "  <tbody>\n",
       "    <tr>\n",
       "      <th>2425</th>\n",
       "      <td>deliv us moon gameplay trailer releas octob 10th</td>\n",
       "      <td>1</td>\n",
       "      <td>59</td>\n",
       "      <td>9</td>\n",
       "    </tr>\n",
       "    <tr>\n",
       "      <th>2426</th>\n",
       "      <td>pcgamer borderland 3 review 63100</td>\n",
       "      <td>1</td>\n",
       "      <td>34</td>\n",
       "      <td>5</td>\n",
       "    </tr>\n",
       "    <tr>\n",
       "      <th>2427</th>\n",
       "      <td>atom heart offici inengin cinemat trailer</td>\n",
       "      <td>1</td>\n",
       "      <td>48</td>\n",
       "      <td>6</td>\n",
       "    </tr>\n",
       "    <tr>\n",
       "      <th>2428</th>\n",
       "      <td>final chapter indi hit celest signal toward po...</td>\n",
       "      <td>1</td>\n",
       "      <td>84</td>\n",
       "      <td>12</td>\n",
       "    </tr>\n",
       "    <tr>\n",
       "      <th>2429</th>\n",
       "      <td>mistov time trial demo</td>\n",
       "      <td>1</td>\n",
       "      <td>32</td>\n",
       "      <td>6</td>\n",
       "    </tr>\n",
       "  </tbody>\n",
       "</table>\n",
       "</div>"
      ],
      "text/plain": [
       "                                                  title  pc_sub  char_len  \\\n",
       "2425   deliv us moon gameplay trailer releas octob 10th       1        59   \n",
       "2426                  pcgamer borderland 3 review 63100       1        34   \n",
       "2427          atom heart offici inengin cinemat trailer       1        48   \n",
       "2428  final chapter indi hit celest signal toward po...       1        84   \n",
       "2429                             mistov time trial demo       1        32   \n",
       "\n",
       "      word_count  \n",
       "2425           9  \n",
       "2426           5  \n",
       "2427           6  \n",
       "2428          12  \n",
       "2429           6  "
      ]
     },
     "execution_count": 41,
     "metadata": {},
     "output_type": "execute_result"
    }
   ],
   "source": [
    "posts_df.tail()"
   ]
  },
  {
   "cell_type": "code",
   "execution_count": 42,
   "metadata": {},
   "outputs": [
    {
     "name": "stdout",
     "output_type": "stream",
     "text": [
      "<class 'pandas.core.frame.DataFrame'>\n",
      "RangeIndex: 2430 entries, 0 to 2429\n",
      "Data columns (total 4 columns):\n",
      "title         2430 non-null object\n",
      "pc_sub        2430 non-null int64\n",
      "char_len      2430 non-null int64\n",
      "word_count    2430 non-null int64\n",
      "dtypes: int64(3), object(1)\n",
      "memory usage: 76.1+ KB\n"
     ]
    }
   ],
   "source": [
    "posts_df.info()"
   ]
  },
  {
   "cell_type": "markdown",
   "metadata": {},
   "source": [
    "## Preprocessing"
   ]
  },
  {
   "cell_type": "markdown",
   "metadata": {},
   "source": [
    "In previous iterations of this project, vectorization was performed with the modeling, to help identify the best combination of vectorizer and algorithm. Eventually, TFIDF was determined to be the better vectorizer over CountVectorizer, so that step will be performed in the preprocessing. This will allow us to additionally utilize the previously engineered features in the modeling as well. We will begin by performing a train/test split of the data."
   ]
  },
  {
   "cell_type": "code",
   "execution_count": 49,
   "metadata": {},
   "outputs": [],
   "source": [
    "# setting the X and y variables\n",
    "X = posts_df[[\"title\", \"char_len\", \"word_count\"]]\n",
    "y = posts_df[\"pc_sub\"]"
   ]
  },
  {
   "cell_type": "code",
   "execution_count": 50,
   "metadata": {},
   "outputs": [],
   "source": [
    "# performing a train/test split on the raw data\n",
    "X_train, X_test, y_train, y_test = train_test_split(X, y, random_state=42, stratify=y)"
   ]
  },
  {
   "cell_type": "markdown",
   "metadata": {},
   "source": [
    "Now that the data has been split, we need to transform the target text column in a word vector that can be used to model. This will be performed with the TF-IDF vectorizer, using the optimized conditions identified in previous iterations."
   ]
  },
  {
   "cell_type": "code",
   "execution_count": 51,
   "metadata": {},
   "outputs": [],
   "source": [
    "# creating tfidf with best params\n",
    "tfidf = TfidfVectorizer(\n",
    "    max_df=0.1,\n",
    "    max_features=200,\n",
    "    ngram_range=(1, 1)\n",
    "                       )"
   ]
  },
  {
   "cell_type": "code",
   "execution_count": 52,
   "metadata": {},
   "outputs": [],
   "source": [
    "# fitting/transforming X sets\n",
    "title_vec_train = tfidf.fit_transform(X_train[\"title\"])\n",
    "title_vec_test = tfidf.transform(X_test[\"title\"])"
   ]
  },
  {
   "cell_type": "markdown",
   "metadata": {},
   "source": [
    "Now that the titles have been vectorized, we need to add the numeric columns back to have the full data the train on. The vectorizing process has created sparse matrices, but in this form they are not compatible with the pandas series that the word count and character count are in. We are going to make both into the same data type, then horizontally stack them. The final array of the word vectors and two additional columns will be set as the X_train and X_test variables."
   ]
  },
  {
   "cell_type": "code",
   "execution_count": 53,
   "metadata": {},
   "outputs": [],
   "source": [
    "# making arrays from sparse matrices\n",
    "title_vec_train_array = title_vec_train.toarray()\n",
    "title_vec_test_array = title_vec_test.toarray()\n",
    "\n",
    "# stacking word count - adapted from https://stackoverflow.com/questions/41927781\n",
    "title_word_train_stack = scipy.hstack((title_vec_train_array,\n",
    "                                      np.array(X_train[\"word_count\"][:, None])))\n",
    "title_word_test_stack = scipy.hstack((title_vec_test_array,\n",
    "                                      np.array(X_test[\"word_count\"][:, None])))\n",
    "\n",
    "# stacking char count - final stack\n",
    "X_train = scipy.hstack((title_word_train_stack,\n",
    "                                      np.array(X_train[\"char_len\"][:, None])))\n",
    "X_test = scipy.hstack((title_word_test_stack,\n",
    "                                      np.array(X_test[\"char_len\"][:, None])))"
   ]
  },
  {
   "cell_type": "code",
   "execution_count": 61,
   "metadata": {},
   "outputs": [
    {
     "name": "stdout",
     "output_type": "stream",
     "text": [
      "[[  0.   0.   0. ...   0.  28. 183.]\n",
      " [  0.   0.   0. ...   0.   7.  38.]\n",
      " [  0.   0.   0. ...   0.  12.  62.]\n",
      " ...\n",
      " [  0.   0.   0. ...   0.   3.  21.]\n",
      " [  0.   0.   0. ...   0.   8.  33.]\n",
      " [  0.   0.   0. ...   0.   6.  39.]]\n",
      "[[  0.   0.   0. ...   0.   6.  30.]\n",
      " [  0.   0.   0. ...   0.  12.  70.]\n",
      " [  0.   0.   0. ...   0.  13.  65.]\n",
      " ...\n",
      " [  0.   0.   0. ...   0.   3.  15.]\n",
      " [  0.   0.   0. ...   0.  20. 107.]\n",
      " [  0.   0.   0. ...   0.  12.  73.]]\n"
     ]
    }
   ],
   "source": [
    "# checking final Xs\n",
    "print(X_train)\n",
    "print(X_test)"
   ]
  },
  {
   "cell_type": "markdown",
   "metadata": {},
   "source": [
    "We now have our split X variables that contain both the sparse matrix of the word vectors, as well as the word and character counts as the last two entries, as seen by the larger whole numbers at the end of each row. These are now ready for the modeling phase."
   ]
  },
  {
   "cell_type": "markdown",
   "metadata": {},
   "source": [
    "## Modeling"
   ]
  },
  {
   "cell_type": "markdown",
   "metadata": {},
   "source": [
    "This problem is a classification question, and as such we have a few options to choose from in terms of modeling. Logistic regression, K-Nearest Neighbors, Decision Trees can all be useful for predicting a specific classification based on a set of parameters."
   ]
  },
  {
   "cell_type": "markdown",
   "metadata": {},
   "source": [
    "A simple model to determine the subreddit class is as easy as picking the mode, or most frequent case. For a refresher, the split of our dataset is shown below, with 0 meaning r/gaming (the negative case), and 1 meaning r/pcgaming (the positive case)."
   ]
  },
  {
   "cell_type": "code",
   "execution_count": 62,
   "metadata": {},
   "outputs": [
    {
     "data": {
      "text/plain": [
       "1    0.504938\n",
       "0    0.495062\n",
       "Name: pc_sub, dtype: float64"
      ]
     },
     "execution_count": 62,
     "metadata": {},
     "output_type": "execute_result"
    }
   ],
   "source": [
    "posts_df[\"pc_sub\"].value_counts(normalize=True)"
   ]
  },
  {
   "cell_type": "markdown",
   "metadata": {},
   "source": [
    "While this base model is certainly easy to use and implement, it has room for improvement. By using the same `CountVectorizer` as above for the EDA, we can split our titles into features, and then run a logistic regression model on it. This is one of the simpler classification models, so while it may not end up being the best, it is always a good place to start."
   ]
  },
  {
   "cell_type": "code",
   "execution_count": 63,
   "metadata": {},
   "outputs": [],
   "source": [
    "# making custom gridsearching func\n",
    "def pipe_searcher(pipe, params):\n",
    "    gs = GridSearchCV(estimator=pipe, param_grid=params, cv=5, verbose=1, n_jobs=3)\n",
    "    gs.fit(X_train, y_train)\n",
    "    print(f'CrossVal Score: {gs.best_score_}')\n",
    "    print(f'Training Score: {gs.score(X_train, y_train)}')\n",
    "    print(f'Testing Score: {gs.score(X_test, y_test)}')\n",
    "    print(gs.best_params_)\n",
    "    return gs"
   ]
  },
  {
   "cell_type": "markdown",
   "metadata": {},
   "source": [
    "### Logistic Regression"
   ]
  },
  {
   "cell_type": "code",
   "execution_count": 64,
   "metadata": {},
   "outputs": [
    {
     "name": "stdout",
     "output_type": "stream",
     "text": [
      "Fitting 5 folds for each of 6 candidates, totalling 30 fits\n"
     ]
    },
    {
     "name": "stderr",
     "output_type": "stream",
     "text": [
      "[Parallel(n_jobs=3)]: Using backend LokyBackend with 3 concurrent workers.\n"
     ]
    },
    {
     "name": "stdout",
     "output_type": "stream",
     "text": [
      "CrossVal Score: 0.7513721185510428\n",
      "Training Score: 0.8035126234906695\n",
      "Testing Score: 0.7861842105263158\n",
      "{'logreg__C': 2, 'logreg__penalty': 'l2'}\n"
     ]
    },
    {
     "name": "stderr",
     "output_type": "stream",
     "text": [
      "[Parallel(n_jobs=3)]: Done  30 out of  30 | elapsed:    7.6s finished\n",
      "/Users/jondov/anaconda3/lib/python3.7/site-packages/sklearn/linear_model/logistic.py:432: FutureWarning: Default solver will be changed to 'lbfgs' in 0.22. Specify a solver to silence this warning.\n",
      "  FutureWarning)\n"
     ]
    }
   ],
   "source": [
    "# trying a simple logreg\n",
    "lr_pipe = Pipeline([\n",
    "    (\"logreg\", LogisticRegression())\n",
    "])\n",
    "\n",
    "lr_params = {\n",
    "    \"logreg__penalty\": [\"l1\", \"l2\"],\n",
    "    \"logreg__C\": [1.75, 2, 2.25]\n",
    "}\n",
    "\n",
    "# running the gridsearch on the whole thing\n",
    "lr_model = pipe_searcher(lr_pipe, lr_params)"
   ]
  },
  {
   "cell_type": "markdown",
   "metadata": {},
   "source": [
    "There was an immediate improvement in the logistic regression after introducing the two additional columns. The previous iteration of this project had an extremely overfit model, with a lower training score. Here we see not only a fairly close set of scores between the training and testing sets, but there is already a slight improvement from the best model in the previous iteration."
   ]
  },
  {
   "cell_type": "markdown",
   "metadata": {},
   "source": [
    "### K-Nearest Neighbors"
   ]
  },
  {
   "cell_type": "code",
   "execution_count": 100,
   "metadata": {},
   "outputs": [
    {
     "name": "stdout",
     "output_type": "stream",
     "text": [
      "Fitting 5 folds for each of 3 candidates, totalling 15 fits\n"
     ]
    },
    {
     "name": "stderr",
     "output_type": "stream",
     "text": [
      "[Parallel(n_jobs=3)]: Using backend LokyBackend with 3 concurrent workers.\n",
      "[Parallel(n_jobs=3)]: Done  10 out of  15 | elapsed:    0.5s remaining:    0.2s\n",
      "[Parallel(n_jobs=3)]: Done  15 out of  15 | elapsed:    0.6s finished\n"
     ]
    },
    {
     "name": "stdout",
     "output_type": "stream",
     "text": [
      "CrossVal Score: 0.610318331503842\n",
      "Training Score: 0.6267837541163557\n",
      "Testing Score: 0.59375\n",
      "{'knn__n_neighbors': 85}\n"
     ]
    }
   ],
   "source": [
    "# trying knn\n",
    "knn_pipe = Pipeline([\n",
    "    (\"knn\", KNeighborsClassifier())\n",
    "])\n",
    "\n",
    "knn_params = {\n",
    "    \"knn__n_neighbors\": [75, 85, 95]\n",
    "}\n",
    "\n",
    "# running the gridsearch on the whole thing\n",
    "knn_model = pipe_searcher(knn_pipe, knn_params)"
   ]
  },
  {
   "cell_type": "markdown",
   "metadata": {},
   "source": [
    "KNN is not typically a model that does well with NLP problems, though in the previous iteration it was one of the better performers, showing very low variance. With this version of the model, the performance has taken a large drop, showing its weakness in this area. "
   ]
  },
  {
   "cell_type": "markdown",
   "metadata": {},
   "source": [
    "### Multinomial Naive Bayes"
   ]
  },
  {
   "cell_type": "code",
   "execution_count": 76,
   "metadata": {},
   "outputs": [
    {
     "name": "stdout",
     "output_type": "stream",
     "text": [
      "Fitting 5 folds for each of 3 candidates, totalling 15 fits\n",
      "CrossVal Score: 0.7228320526893524\n",
      "Training Score: 0.7585071350164654\n",
      "Testing Score: 0.7319078947368421\n",
      "{'mnb__alpha': 0.15}\n"
     ]
    },
    {
     "name": "stderr",
     "output_type": "stream",
     "text": [
      "[Parallel(n_jobs=3)]: Using backend LokyBackend with 3 concurrent workers.\n",
      "[Parallel(n_jobs=3)]: Done  15 out of  15 | elapsed:    0.1s finished\n"
     ]
    }
   ],
   "source": [
    "# trying mnb\n",
    "mnb_pipe = Pipeline([\n",
    "    (\"mnb\", MultinomialNB())\n",
    "])\n",
    "\n",
    "mnb_params = {\n",
    "    \"mnb__alpha\": [0.125, 0.15, 0.175]\n",
    "}\n",
    "\n",
    "# running the gridsearch on the whole thing\n",
    "mnb_model = pipe_searcher(mnb_pipe, mnb_params)"
   ]
  },
  {
   "cell_type": "markdown",
   "metadata": {},
   "source": [
    "This model puts us right back where we started, very low bias, with high variance. It is extremely overfit. Another model we could try is a decision tree classifier, although simple decision trees tend to be very overfit as well. Because of this, a more advanced model will be used. Basic decision tree models can very effective models, but tend be be very overfit, and since our models are already having a problem with this, we will jump straight to a more complex model. A random forest model can make many decision trees based on different bootstrapped datasets, and average out the predictions to counteract bias."
   ]
  },
  {
   "cell_type": "markdown",
   "metadata": {},
   "source": [
    "### Random Forest"
   ]
  },
  {
   "cell_type": "code",
   "execution_count": 79,
   "metadata": {},
   "outputs": [
    {
     "name": "stdout",
     "output_type": "stream",
     "text": [
      "Fitting 5 folds for each of 27 candidates, totalling 135 fits\n"
     ]
    },
    {
     "name": "stderr",
     "output_type": "stream",
     "text": [
      "[Parallel(n_jobs=3)]: Using backend LokyBackend with 3 concurrent workers.\n",
      "[Parallel(n_jobs=3)]: Done  44 tasks      | elapsed:   20.8s\n",
      "[Parallel(n_jobs=3)]: Done 135 out of 135 | elapsed:   52.4s finished\n"
     ]
    },
    {
     "name": "stdout",
     "output_type": "stream",
     "text": [
      "CrossVal Score: 0.7349066959385291\n",
      "Training Score: 0.9286498353457738\n",
      "Testing Score: 0.7680921052631579\n",
      "{'rand_for__max_depth': 200, 'rand_for__min_samples_split': 25, 'rand_for__n_estimators': 100}\n"
     ]
    }
   ],
   "source": [
    "# trying random forest\n",
    "rf_pipe = Pipeline([\n",
    "    (\"rand_for\", RandomForestClassifier(random_state=42))\n",
    "])\n",
    "\n",
    "rf_params = {\n",
    "    \"rand_for__n_estimators\": [50, 100, 150],\n",
    "    \"rand_for__max_depth\": [100, 200, 300],\n",
    "    \"rand_for__min_samples_split\": [5, 25, 50],\n",
    "}\n",
    "\n",
    "# running the gridsearch on the whole thing\n",
    "rf_model = pipe_searcher(rf_pipe, rf_params)"
   ]
  },
  {
   "cell_type": "markdown",
   "metadata": {},
   "source": [
    "Here we see an improvement to the test scores from the Naive Bayes model, but the training score has also increased by a large amount, resulting in an extreme overfit for this model. Unfortunately, overfitting is commonplace in decision tree algorithms, though Random Forest usually helps to counteract it. A further balanced model that could be used in this family is the `AdaBoostClassifier`. This model will create a series of \"stumps\", or a weak-learning decision tree models, identify where one misclassified posts, and then weight those points in order to change the next model in another stump. This model is therefore able to learn from previous mistakes."
   ]
  },
  {
   "cell_type": "markdown",
   "metadata": {},
   "source": [
    "### Adaptive Boosting Decision Tree"
   ]
  },
  {
   "cell_type": "code",
   "execution_count": 80,
   "metadata": {},
   "outputs": [
    {
     "name": "stdout",
     "output_type": "stream",
     "text": [
      "Fitting 5 folds for each of 3 candidates, totalling 15 fits\n"
     ]
    },
    {
     "name": "stderr",
     "output_type": "stream",
     "text": [
      "[Parallel(n_jobs=3)]: Using backend LokyBackend with 3 concurrent workers.\n",
      "[Parallel(n_jobs=3)]: Done  15 out of  15 | elapsed:   11.0s finished\n"
     ]
    },
    {
     "name": "stdout",
     "output_type": "stream",
     "text": [
      "CrossVal Score: 0.7041712403951701\n",
      "Training Score: 0.7552140504939627\n",
      "Testing Score: 0.7384868421052632\n",
      "{'ada__learning_rate': 0.5}\n"
     ]
    }
   ],
   "source": [
    "# trying adaboost\n",
    "boost_pipe = Pipeline([\n",
    "    (\"ada\", AdaBoostClassifier(random_state=42))\n",
    "])\n",
    "\n",
    "boost_params = {\n",
    "    \"ada__learning_rate\": [0.25, 0.5, 0.75],\n",
    "#     \"ada__n_estimators\": [20, 100, 200] # this was hurting the variance too much\n",
    "}\n",
    "\n",
    "# running the gridsearch on the whole thing\n",
    "boost_model = pipe_searcher(boost_pipe, boost_params)"
   ]
  },
  {
   "cell_type": "markdown",
   "metadata": {},
   "source": [
    "The boosted decision tree models are now giving us much lower variance compared to the random forest, but the testing score has also taken a hit."
   ]
  },
  {
   "cell_type": "markdown",
   "metadata": {},
   "source": [
    "An interesting issue was noticed when optimizing the models, especially regarding the two boosted decision tree models. When the `n_estimators` hyperparameter was left at the default option of 50, it gave some of the lowest variance scores out of all the models. However, when a list of estimator options was passed through the pipeline/gridsearch, a higher number of estimators was always picked as the best parameter. This was most likely because it made the score of the training set higher. However, this was at the cost of a very high variance when scoring the test dataset. Because of this, the list of estimator options was taken out of the modeling process.\n",
    "\n",
    "For the remaining models, the gridsearches were re-run with and without the parameter dictionaries, but none of the other models had such a distinct difference in scores as the AdaBoost models."
   ]
  },
  {
   "cell_type": "markdown",
   "metadata": {},
   "source": [
    "One final model type that will be tested is the support vector classifier. This algorithm will attempt to find a single plane of separation between the two subreddit classes, and will add dimensionality to the data in order to find the best separability."
   ]
  },
  {
   "cell_type": "markdown",
   "metadata": {},
   "source": [
    "### Support Vector Classifier"
   ]
  },
  {
   "cell_type": "code",
   "execution_count": 91,
   "metadata": {},
   "outputs": [
    {
     "name": "stdout",
     "output_type": "stream",
     "text": [
      "Fitting 5 folds for each of 6 candidates, totalling 30 fits\n"
     ]
    },
    {
     "name": "stderr",
     "output_type": "stream",
     "text": [
      "[Parallel(n_jobs=3)]: Using backend LokyBackend with 3 concurrent workers.\n",
      "[Parallel(n_jobs=3)]: Done  30 out of  30 | elapsed:   17.8s finished\n"
     ]
    },
    {
     "name": "stdout",
     "output_type": "stream",
     "text": [
      "CrossVal Score: 0.74807903402854\n",
      "Training Score: 0.7903402854006586\n",
      "Testing Score: 0.7828947368421053\n",
      "{'svc__C': 0.25, 'svc__kernel': 'linear'}\n"
     ]
    }
   ],
   "source": [
    "# trying svc\n",
    "svc_pipe = Pipeline([\n",
    "    (\"svc\", SVC(random_state=42))\n",
    "])\n",
    "\n",
    "svc_params = {\n",
    "    \"svc__C\": [0.20, 0.25, 0.30],\n",
    "    \"svc__kernel\": [\"linear\", \"rbf\"]\n",
    "}\n",
    "\n",
    "# running the gridsearch on the whole thing\n",
    "svc_model = pipe_searcher(svc_pipe, svc_params)"
   ]
  },
  {
   "cell_type": "markdown",
   "metadata": {},
   "source": [
    "The SVC appears to have achieved one of the highest scores of all the models. In order to get a better idea of everything that has been made so far, all the scores will be compiled and analyzed together."
   ]
  },
  {
   "cell_type": "markdown",
   "metadata": {},
   "source": [
    "## Model Evaluations"
   ]
  },
  {
   "cell_type": "markdown",
   "metadata": {},
   "source": [
    "### Accuracy"
   ]
  },
  {
   "cell_type": "markdown",
   "metadata": {},
   "source": [
    "A simple model to determine the subreddit class is as easy as picking the mode, or most frequent case. For a refresher, the split of our dataset is shown below, with 0 meaning r/gaming, and 1 meaning r/pcgaming."
   ]
  },
  {
   "cell_type": "code",
   "execution_count": 92,
   "metadata": {},
   "outputs": [
    {
     "data": {
      "text/plain": [
       "1    0.504938\n",
       "0    0.495062\n",
       "Name: pc_sub, dtype: float64"
      ]
     },
     "execution_count": 92,
     "metadata": {},
     "output_type": "execute_result"
    }
   ],
   "source": [
    "posts_df[\"pc_sub\"].value_counts(normalize=\"True\")"
   ]
  },
  {
   "cell_type": "markdown",
   "metadata": {},
   "source": [
    "For this dataset, there were more posts from r/pcgaming than from r/gaming. Therefore, our base model would be to always predict r/pcgaming. However, as seen above, this would only be correct about 50% of the time. Hopefully, our complex models can do a better job than that.\n",
    "\n",
    "To be able to easily compare all of our models, we can arrange all of the different scores into a dataframe.\n",
    "\n",
    "Our target metric will be accuracy. In this case, it is no more detrimental to accidentally classify a post as r/gaming as it is for r/pcgaming, so sensitivity and specificity are not really important here. We only want to make sure that our predictions (either for the positive or negative class) are correct."
   ]
  },
  {
   "cell_type": "code",
   "execution_count": 101,
   "metadata": {},
   "outputs": [],
   "source": [
    "# making a df to store everything\n",
    "model_df = pd.DataFrame(columns=[\"model\", \"train_acc\", \"test_acc\", \"var\"])"
   ]
  },
  {
   "cell_type": "markdown",
   "metadata": {},
   "source": [
    "It would be nice to iterate through one list of models multiple times to get each piece of information that we need."
   ]
  },
  {
   "cell_type": "code",
   "execution_count": 102,
   "metadata": {},
   "outputs": [
    {
     "data": {
      "text/html": [
       "<div>\n",
       "<style scoped>\n",
       "    .dataframe tbody tr th:only-of-type {\n",
       "        vertical-align: middle;\n",
       "    }\n",
       "\n",
       "    .dataframe tbody tr th {\n",
       "        vertical-align: top;\n",
       "    }\n",
       "\n",
       "    .dataframe thead th {\n",
       "        text-align: right;\n",
       "    }\n",
       "</style>\n",
       "<table border=\"1\" class=\"dataframe\">\n",
       "  <thead>\n",
       "    <tr style=\"text-align: right;\">\n",
       "      <th></th>\n",
       "      <th>model</th>\n",
       "      <th>train_acc</th>\n",
       "      <th>test_acc</th>\n",
       "      <th>var</th>\n",
       "    </tr>\n",
       "  </thead>\n",
       "  <tbody>\n",
       "    <tr>\n",
       "      <th>0</th>\n",
       "      <td>logreg</td>\n",
       "      <td>0.8035</td>\n",
       "      <td>0.7862</td>\n",
       "      <td>0.0173</td>\n",
       "    </tr>\n",
       "    <tr>\n",
       "      <th>1</th>\n",
       "      <td>knn</td>\n",
       "      <td>0.6268</td>\n",
       "      <td>0.5938</td>\n",
       "      <td>0.0330</td>\n",
       "    </tr>\n",
       "    <tr>\n",
       "      <th>2</th>\n",
       "      <td>mnb</td>\n",
       "      <td>0.7585</td>\n",
       "      <td>0.7319</td>\n",
       "      <td>0.0266</td>\n",
       "    </tr>\n",
       "    <tr>\n",
       "      <th>3</th>\n",
       "      <td>rand_for</td>\n",
       "      <td>0.9286</td>\n",
       "      <td>0.7681</td>\n",
       "      <td>0.1605</td>\n",
       "    </tr>\n",
       "    <tr>\n",
       "      <th>4</th>\n",
       "      <td>ada</td>\n",
       "      <td>0.7552</td>\n",
       "      <td>0.7385</td>\n",
       "      <td>0.0167</td>\n",
       "    </tr>\n",
       "    <tr>\n",
       "      <th>5</th>\n",
       "      <td>svc</td>\n",
       "      <td>0.7903</td>\n",
       "      <td>0.7829</td>\n",
       "      <td>0.0074</td>\n",
       "    </tr>\n",
       "  </tbody>\n",
       "</table>\n",
       "</div>"
      ],
      "text/plain": [
       "      model  train_acc  test_acc     var\n",
       "0    logreg     0.8035    0.7862  0.0173\n",
       "1       knn     0.6268    0.5938  0.0330\n",
       "2       mnb     0.7585    0.7319  0.0266\n",
       "3  rand_for     0.9286    0.7681  0.1605\n",
       "4       ada     0.7552    0.7385  0.0167\n",
       "5       svc     0.7903    0.7829  0.0074"
      ]
     },
     "execution_count": 102,
     "metadata": {},
     "output_type": "execute_result"
    }
   ],
   "source": [
    "# making a list of our models\n",
    "models = [lr_model,\n",
    "          knn_model, \n",
    "          mnb_model,\n",
    "          rf_model,\n",
    "          boost_model,\n",
    "          svc_model]\n",
    "\n",
    "# putting each model variation into the df\n",
    "model_df[\"model\"] = [f\"{model.estimator.steps[0][0]}\" for model in models]\n",
    "\n",
    "# putting in the training scores\n",
    "model_df[\"train_acc\"] = [round(model.score(X_train, y_train), 4) for model in models]\n",
    "\n",
    "# putting in the testing scores\n",
    "model_df[\"test_acc\"] = [round(model.score(X_test, y_test), 4) for model in models]\n",
    "\n",
    "# getting the difference, or variance, between each score\n",
    "model_df[\"var\"] = model_df[\"train_acc\"] - model_df[\"test_acc\"]\n",
    "\n",
    "# checking the final dataframe\n",
    "model_df"
   ]
  },
  {
   "cell_type": "markdown",
   "metadata": {},
   "source": [
    "From these tables, we can see that model 3 (The random forest) gives us the highest overall accuracy score for the training set (lowest bias), but it also has the highest amount of variance of all the models. The model with the highest testing set score was model 0 (the logistic regression), which also had one of the lower variances. However, with the model 5 (the support vector classifier), not only is the variance by far the lowest of the group, but it has second highest testing accuracy. Because of these points, it appears to be the best balanced of all the models. "
   ]
  },
  {
   "cell_type": "code",
   "execution_count": 432,
   "metadata": {},
   "outputs": [],
   "source": [
    "logreg = LogisticRegression(C=2)"
   ]
  },
  {
   "cell_type": "code",
   "execution_count": 433,
   "metadata": {},
   "outputs": [
    {
     "name": "stderr",
     "output_type": "stream",
     "text": [
      "/Users/jondov/anaconda3/lib/python3.7/site-packages/sklearn/linear_model/logistic.py:432: FutureWarning: Default solver will be changed to 'lbfgs' in 0.22. Specify a solver to silence this warning.\n",
      "  FutureWarning)\n"
     ]
    }
   ],
   "source": [
    "logreg_model = logreg.fit(X_train, y_train)"
   ]
  },
  {
   "cell_type": "code",
   "execution_count": 436,
   "metadata": {},
   "outputs": [
    {
     "data": {
      "text/plain": [
       "array([[-0.71300234,  0.31189428,  2.09120323,  0.14243109,  2.03621515,\n",
       "         2.09054269, -1.12758925,  2.18813039,  1.59085943,  1.91839031,\n",
       "         0.77153588, -0.4413767 ,  1.07967263,  0.4529313 ,  0.62628113,\n",
       "         1.43492739, -0.60588105,  1.58627122,  1.86887631,  0.81614681,\n",
       "        -0.53781025, -0.57087709,  0.05355631,  0.01435808, -0.87933267,\n",
       "         1.37841844, -1.93133397,  1.71816024,  1.07028172, -0.34741223,\n",
       "         0.09392539,  1.34476491, -0.31854036,  1.33155548,  0.48614383,\n",
       "        -0.22993742, -0.16662347,  0.46938313,  0.98947809, -0.11673161,\n",
       "         1.68329176,  1.90381625,  0.26632088,  1.31879654, -0.23318246,\n",
       "        -1.21096473,  0.30842979,  0.87418742,  1.53694677, -0.64798253,\n",
       "        -0.93723221, -0.92946749,  1.50619202,  0.26036299, -0.66832636,\n",
       "        -0.41132147, -0.3614965 ,  2.26118171,  0.36763967,  1.25464823,\n",
       "        -0.98105452,  0.31488651, -1.547814  , -0.35887726, -0.81072019,\n",
       "        -1.31220564,  0.87781901, -2.46576779, -0.80962933,  2.67626491,\n",
       "         2.1619647 ,  0.32607821,  0.44203773,  0.06242158,  0.21323224,\n",
       "         0.15650671,  2.03537615, -0.35957555, -1.05723442,  1.016942  ,\n",
       "        -0.43197814, -0.93687838,  0.36591012, -2.09286318, -2.38179957,\n",
       "        -0.98438082, -1.89304356, -1.02692096,  1.09256917,  0.90864013,\n",
       "         0.48818924, -0.43601855, -0.24200845,  1.63610627,  2.44973103,\n",
       "         0.39669271,  0.58326544, -1.53187391,  0.92540195, -0.5161015 ,\n",
       "        -1.7245138 , -1.19085037, -1.15627938,  0.0475767 ,  0.54584621,\n",
       "         0.8261376 , -1.69832018, -1.62468269,  1.11046084,  0.4906597 ,\n",
       "         0.4175258 ,  0.34151444,  0.30390197, -0.12695487, -0.99760106,\n",
       "        -0.90741277, -0.2789495 ,  0.20684527,  0.2867757 , -0.92696957,\n",
       "         1.38342054,  1.41538174,  0.6057579 , -0.03102932, -1.13985163,\n",
       "        -0.25259889,  0.23431833,  1.37217584,  1.79829026,  0.08694491,\n",
       "         0.19096488, -0.24605195,  0.65499124, -1.05411278, -2.04989631,\n",
       "         1.56583579, -1.80496473,  0.56030696, -1.09666838, -0.97153597,\n",
       "        -0.1631191 ,  3.05885103, -0.74188278,  1.40072903,  1.90658163,\n",
       "         1.54484947,  0.44857876, -0.04418377,  1.45597736,  0.06476794,\n",
       "         1.05171396,  0.15037074, -0.39035579, -1.1607555 , -0.16086675,\n",
       "         3.37598551,  0.55057076,  1.05016201,  0.69780157, -0.55216464,\n",
       "         1.03538453,  1.64829485,  0.46251563, -0.7952285 , -1.06302104,\n",
       "         0.86522806,  1.63248179,  2.1844152 , -1.45184677, -0.94586492,\n",
       "        -0.91992092,  1.65990107, -0.13634994, -0.99375092,  1.123535  ,\n",
       "        -0.70676163,  3.13337119, -1.38839447, -0.48732849,  2.10435626,\n",
       "        -0.24472903,  1.4096113 ,  1.99351939,  1.02412194, -0.84790484,\n",
       "         0.43029752,  1.22848243, -0.74640849, -0.26316833, -0.74056881,\n",
       "        -0.53228135,  0.5908161 , -0.20227495, -0.48594303,  0.96542805,\n",
       "         0.50481798,  0.61378905,  0.56425183, -0.35651813, -1.12313836,\n",
       "        -0.20190579,  0.04637999]])"
      ]
     },
     "execution_count": 436,
     "metadata": {},
     "output_type": "execute_result"
    }
   ],
   "source": [
    "logreg_model.coef_"
   ]
  },
  {
   "cell_type": "markdown",
   "metadata": {},
   "source": [
    "### ROC Curve"
   ]
  },
  {
   "cell_type": "markdown",
   "metadata": {},
   "source": [
    "A good way to visualize how the model performs is with an ROC curve, and calculating the AUC, or Area Under the Curve. This curve is able to show how the model makes decisions, as it plots the sensitivity, or the true positive rate, against 1-specificity, which could be classified as the false positive rate. Ideally, this curve would maintain perfect balance between the two, with the AUC being 1.0. "
   ]
  },
  {
   "cell_type": "code",
   "execution_count": 437,
   "metadata": {},
   "outputs": [],
   "source": [
    "preds = logreg_model.predict(X_test)"
   ]
  },
  {
   "cell_type": "code",
   "execution_count": 439,
   "metadata": {},
   "outputs": [
    {
     "data": {
      "image/png": "[encoded data removed]",
      "text/plain": [
       "<Figure size 720x504 with 1 Axes>"
      ]
     },
     "metadata": {},
     "output_type": "display_data"
    }
   ],
   "source": [
    "graphs.roc_curve(logreg_model, X_test, y_test, preds, \"ROC Curve\", (10, 7), baseline_color=\"navy\")"
   ]
  },
  {
   "cell_type": "markdown",
   "metadata": {},
   "source": [
    "This ROC plot shows that that is initially a high amount of sensitivity in the model, but then around 0.1 of the x-axis, there is a sharp drop. This curve is actually quite similar to that of the previous iteration's best model, with a distinct \"shoulder\" in the curve as the sensitivity increases."
   ]
  },
  {
   "cell_type": "markdown",
   "metadata": {},
   "source": [
    "## Conclusions and Recommendations"
   ]
  },
  {
   "cell_type": "markdown",
   "metadata": {},
   "source": [
    "### Conclusions"
   ]
  },
  {
   "cell_type": "markdown",
   "metadata": {},
   "source": [
    "This project has proven that natural language processing is a difficult tool to effectively wield. It is highly important to have a knowledge of the text that is being processed in order to have the most effective results, and it can be difficult to determine when and how certain steps need to be taken.\n",
    "\n",
    "In the end, we were able to create a fairly effective Mutlinomial Naive Bayes model to classify subreddit posts between the two target subreddits, r/gaming and r/pcgaming. At above 76% accurate, it is a significant step up from a coin flip or the base model, though it is still far from perfect. A decision to use a model of this performance to classify these subreddits (or another pair of classifications) greatly depends on the risk involved in those classifications. For this project, the stakes seem quite low, but in other situations a 76.81% accuracy may be completely unacceptable.\n",
    "\n",
    "It is unfortunate that this model type leaves almost no transparency in which words were or were not important in making the classification. \n",
    "\n",
    "It also important to note that this model will only be effective when classifying posts between these two specific subreddits. The model is built on the specific words that are used in these subreddits, and other subreddits will most likely have many differences in the words that are used, and how they are being used.\n",
    "\n",
    "The words being used even within these two subreddits is likely to evolve over time, especially when important events happen in the gaming industry, so the effectiveness of this model may not last a long time. The data that this model was built on was pulled from a specific period of time, on or around July 9, 2019."
   ]
  },
  {
   "cell_type": "markdown",
   "metadata": {},
   "source": [
    "### Recommendations"
   ]
  },
  {
   "cell_type": "markdown",
   "metadata": {},
   "source": [
    "It does appear that there may be some further optimization to be done with this model. Also with our testing score still being below 80%, it would be helpful to build something a bit more accurate, possibly by fitting another type of model, such as a support vector machine. \n",
    "\n",
    "With the issue that was found regarding the `n_estimators` hyperparameter in the boosted models, we see an opportunity to perform and even deeper dive into the hyperparameters that were used, and even those that had not been changed here. There may be a model that has similar or better performance to our final selected model, when a very specific combination of parameters are used, which may not be immediately noticeable when using a typical gridsearch. There is also a wealth of additional information on each of the posts from the initial pull. While we isolate the title from each post, in the original datasets there was additional information such as `selftext`, number of comments, and more. These could all prove to be useful pieces of information for this classification problem.\n",
    "\n",
    "Additionally, in order to keep the model as accurate as possible, new data should be pulled periodically to add to the dataset, so as to account for changing trends in post language."
   ]
  }
 ],
 "metadata": {
  "kernelspec": {
   "display_name": "Python 3",
   "language": "python",
   "name": "python3"
  },
  "language_info": {
   "codemirror_mode": {
    "name": "ipython",
    "version": 3
   },
   "file_extension": ".py",
   "mimetype": "text/x-python",
   "name": "python",
   "nbconvert_exporter": "python",
   "pygments_lexer": "ipython3",
   "version": "3.7.4"
  }
 },
 "nbformat": 4,
 "nbformat_minor": 2
}
